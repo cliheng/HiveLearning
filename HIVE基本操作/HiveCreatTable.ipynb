{
 "cells": [
  {
   "cell_type": "raw",
   "metadata": {},
   "source": [
    "目前在hive中常用的数据类型有:\n",
    "   BIGINT – 主要用于状态,类别,数量的字段, 如status/option/type/quantity\n",
    "   DOUBLE – 主要用于金额的字段, 如fee/price/bid\n",
    "   STRING – 除上述之外的字段基本都使用String, 尤其是id和日期时间这样的字段"
   ]
  },
  {
   "cell_type": "raw",
   "metadata": {},
   "source": [
    "LIKE 允许用户复制现有的表结构，但是不复制数据。"
   ]
  },
  {
   "cell_type": "raw",
   "metadata": {},
   "source": [
    "如果文件数据是纯文本，可以使用 STORED AS TEXTFILE。如果数据需要压缩，使用 STORED AS SEQUENCE 。"
   ]
  },
  {
   "cell_type": "raw",
   "metadata": {},
   "source": [
    "表名和列名不区分大小写，SerDe 和属性名区分大小写。表和列的注释是字符串。"
   ]
  },
  {
   "cell_type": "raw",
   "metadata": {},
   "source": [
    "阿里巴巴数据库常用间隔符的读取:\n",
    "常用间隔符一般是Ascii码5，Ascii码7等。\n",
    "在hive中Ascii码5用’\\005’表示， Ascii码7用’\\007’表示，依此类推。"
   ]
  },
  {
   "cell_type": "markdown",
   "metadata": {},
   "source": [
    "# 创建数据库，切换数据库"
   ]
  },
  {
   "cell_type": "raw",
   "metadata": {},
   "source": [
    "CREATE TABLE 创建一个指定名字的表。如果相同名字的表已经存在，则抛出异常；用户可以用 IF NOT EXIST 选项来忽略这个异常。"
   ]
  },
  {
   "cell_type": "code",
   "execution_count": null,
   "metadata": {
    "collapsed": true
   },
   "outputs": [],
   "source": [
    "eg:\n",
    "create database testdb2; #创建数据库\n",
    "use testdb2;    #进入数据表"
   ]
  },
  {
   "cell_type": "markdown",
   "metadata": {},
   "source": [
    "# 创建管理表 "
   ]
  },
  {
   "cell_type": "raw",
   "metadata": {},
   "source": [
    "如果要将自定义间隔符的文件读入一个表，需要通过创建表的语句来指明输入文件间隔符，然后load data到这个表。"
   ]
  },
  {
   "cell_type": "code",
   "execution_count": null,
   "metadata": {
    "collapsed": true
   },
   "outputs": [],
   "source": [
    "eg1:\n",
    "create table emp(\n",
    "empno int,\n",
    "empname string,\n",
    "job string,\n",
    "mgr int,\n",
    "hiredate string,\n",
    "salary double,\n",
    "comm double,\n",
    "deptno int)\n",
    "row format delimited\n",
    "fields terminated by '\\t';\n",
    "#------------------------------------------------------#\n",
    "eg2:\n",
    "create table xiaojun\n",
    "(id int,cont string) \n",
    "row format delimited \n",
    "fields terminated by '\\005' stored as textfile;\n",
    "\n",
    "#-----------------------------------"
   ]
  },
  {
   "cell_type": "code",
   "execution_count": null,
   "metadata": {
    "collapsed": true
   },
   "outputs": [],
   "source": [
    "load data local inpath '/opt/test/emp.txt' overwrite into table emp; #加载数据"
   ]
  },
  {
   "cell_type": "markdown",
   "metadata": {},
   "source": [
    "## 创建一个表指定存储格式"
   ]
  },
  {
   "cell_type": "code",
   "execution_count": null,
   "metadata": {
    "collapsed": true
   },
   "outputs": [],
   "source": []
  },
  {
   "cell_type": "code",
   "execution_count": null,
   "metadata": {
    "collapsed": true
   },
   "outputs": [],
   "source": [
    "CREATE TABLE employess(\n",
    "name String,\n",
    "salary Float,\n",
    "subordinates ARRAY<STRING>,\n",
    "deductions MAP<STRING,FLOAT>,\n",
    "address STRUCT<street:STRING,city:STRING,zip:INT>\n",
    ")\n",
    "ROW FORMAT DELIMITED\n",
    "FIELDS TERMINATED BY '\\001'\n",
    "COLLECTION ITEMS TERMINATED BY '\\002'\n",
    "MAP KEYS TERMINATED BY '\\003'\n",
    "LINES TERMINATED BY '\\n'\n",
    "STORED AS TEXTFILE;"
   ]
  },
  {
   "cell_type": "markdown",
   "metadata": {
    "collapsed": true
   },
   "source": [
    "![title](img/createpartitiontable.png)"
   ]
  },
  {
   "cell_type": "raw",
   "metadata": {},
   "source": [
    "eg3:\n",
    "    #创建表\n",
    "hive (default)> create table xiong\n",
    "              > (id int ,name string,\n",
    "              > age int,tel string)\n",
    "              > ROW FORMAT delimited FIELDS terminated by '\\t'\n",
    "              > STORED AS TEXTFILE;\n",
    "OK\n",
    "Time taken: 1.373 seconds"
   ]
  },
  {
   "cell_type": "raw",
   "metadata": {},
   "source": [
    "    #生成数据\n",
    "    wangkai8:workSpace$ cat xiong.txt \n",
    "1       xiong     25      13188888888888\n",
    "2       test    30      13888888888888\n",
    "3       zs      34      899314121"
   ]
  },
  {
   "cell_type": "markdown",
   "metadata": {},
   "source": [
    "![title](img/loadtxtdata.png)"
   ]
  },
  {
   "cell_type": "markdown",
   "metadata": {},
   "source": [
    "![title](img/dfsls.png)"
   ]
  },
  {
   "cell_type": "markdown",
   "metadata": {},
   "source": [
    "## 使用external建表和普通建表区别"
   ]
  },
  {
   "cell_type": "raw",
   "metadata": {},
   "source": [
    "1.指定一个位置，而不使用默认的位置。"
   ]
  },
  {
   "cell_type": "markdown",
   "metadata": {},
   "source": [
    "![title](img/Exteranl_table.png)"
   ]
  },
  {
   "cell_type": "raw",
   "metadata": {},
   "source": [
    "对于使用create external table 建表完成后，再drop掉表，表中的数据还在文件系统中。\n",
    "使用普通的建表DROP后则找不到"
   ]
  },
  {
   "cell_type": "markdown",
   "metadata": {},
   "source": [
    "![title](img/Exteranl_table2.png)"
   ]
  },
  {
   "cell_type": "markdown",
   "metadata": {},
   "source": [
    "# 创建外部表"
   ]
  },
  {
   "cell_type": "markdown",
   "metadata": {},
   "source": [
    "### 为什么需要外部表？"
   ]
  },
  {
   "cell_type": "raw",
   "metadata": {},
   "source": [
    "使外部表变成便于阅读的文件，让别人来调用"
   ]
  },
  {
   "cell_type": "raw",
   "metadata": {},
   "source": [
    "创建外部表时直接指定表位置 \n",
    "EXTERNAL 关键字可以让用户创建一个外部表，在建表的同时指定一个指向实际数据的路径（LOCATION），Hive 创建内部表时，会将数据移动到数据仓库指向的路径；若创建外部表，仅记录数据所在的路径，不对数据的位置做任何改变。在删除表的时候，内部表的元数据和数据会被一起删除，而外部表只删除元数据，不删除数据。"
   ]
  },
  {
   "cell_type": "code",
   "execution_count": null,
   "metadata": {
    "collapsed": true
   },
   "outputs": [],
   "source": [
    "eg:\n",
    "create external table emp_ext(\n",
    "empno int,\n",
    "empname string,\n",
    "job string,\n",
    "mgr int,\n",
    "hiredate string,\n",
    "salary double,\n",
    "comm double,\n",
    "deptno int)\n",
    "row format delimited\n",
    "fields terminated by '\\t'\n",
    "location '/user/hive/warehouse/testdb2.db/emp_ext/'; \n",
    "#-----------------------------------------\n",
    "\n",
    "CREATE EXTERANL TABLE IF NOT EXISTS mydb.employees3 like mydb.employees\n",
    "location '/user/hive/warehouse/testdb2.db/emp_ext/'"
   ]
  },
  {
   "cell_type": "markdown",
   "metadata": {},
   "source": [
    "![title](img/externaltable.png)"
   ]
  },
  {
   "cell_type": "raw",
   "metadata": {},
   "source": [
    "上传数据文件到指定路径 "
   ]
  },
  {
   "cell_type": "code",
   "execution_count": null,
   "metadata": {
    "collapsed": true
   },
   "outputs": [],
   "source": [
    "hdfs dfs -mkdir /user/hive/warehouse/testdb2.db/emp_ext   # 创建路径\n",
    "hdfs dfs -put emp.txt /user/hive/warehouse/testdb2.db/emp_ext/  #指定文件   "
   ]
  },
  {
   "cell_type": "markdown",
   "metadata": {},
   "source": [
    "# 创建分区表\n"
   ]
  },
  {
   "cell_type": "raw",
   "metadata": {},
   "source": [
    "有分区的表可以在创建的时候使用 PARTITIONED BY 语句。一个表可以拥有一个或者多个分区，每一个分区单独存在一个目录下。而且，表和分区都可以对某个列进行 CLUSTERED BY 操作，将若干个列放入一个桶（bucket）中。也可以利用SORT BY 对数据进行排序。这样可以为特定应用提高性能。"
   ]
  },
  {
   "cell_type": "code",
   "execution_count": null,
   "metadata": {
    "collapsed": true
   },
   "outputs": [],
   "source": [
    "eg1:\n",
    "CREATE TABLE c02_clickstat_fatdt1\n",
    "(yyyymmdd  string,\n",
    " id              INT,\n",
    " ip               string,\n",
    " country          string,\n",
    " cookie_id        string,\n",
    " page_id          string  ,  \n",
    " clickstat_url_id int,\n",
    " query_string     string,\n",
    " refer            string\n",
    ")PARTITIONED BY(dt STRING)\n",
    "row format delimited fields terminated by '\\005' stored as textfile; \n",
    "\n",
    "eg2:\n"
   ]
  },
  {
   "cell_type": "raw",
   "metadata": {},
   "source": [
    "注：分区字段不能与表中其他字段重复，否则报错 \n",
    "FAILED: SemanticException [Error 10035]: Column repeated in partitioning columns "
   ]
  },
  {
   "cell_type": "raw",
   "metadata": {},
   "source": [
    "加载数据 \n",
    "从本地拷贝emp.txt到分区表目录中"
   ]
  },
  {
   "cell_type": "code",
   "execution_count": null,
   "metadata": {
    "collapsed": true
   },
   "outputs": [],
   "source": [
    "load data local inpath '/opt/test/emp.txt' into table emp_part partition (year='2016', month='3');\n",
    "load data local inpath '/opt/test/emp.txt' into table emp_part partition (year='2016', month='4'); "
   ]
  },
  {
   "cell_type": "raw",
   "metadata": {},
   "source": [
    "用hdfs中指定位置的数据，增加分区表中数据，此操作不会移动数据文件到分区表目录中"
   ]
  },
  {
   "cell_type": "code",
   "execution_count": null,
   "metadata": {
    "collapsed": true
   },
   "outputs": [],
   "source": [
    "alter table emp_part add partition (year='2016', month='5') location '/data'; "
   ]
  },
  {
   "cell_type": "raw",
   "metadata": {},
   "source": [
    "把hdfs中指定位置的数据移动到分区表目录中，增加数据"
   ]
  },
  {
   "cell_type": "code",
   "execution_count": null,
   "metadata": {
    "collapsed": true
   },
   "outputs": [],
   "source": [
    "load data inpath '/emp.txt' into table emp_part partition (year='2016', month='6'); "
   ]
  },
  {
   "cell_type": "markdown",
   "metadata": {},
   "source": [
    "# 其他创表方式"
   ]
  },
  {
   "cell_type": "raw",
   "metadata": {},
   "source": [
    "create-as"
   ]
  },
  {
   "cell_type": "code",
   "execution_count": null,
   "metadata": {
    "collapsed": true
   },
   "outputs": [],
   "source": [
    "create table emp3  \n",
    "as\n",
    "select * from emp; "
   ]
  },
  {
   "cell_type": "raw",
   "metadata": {},
   "source": [
    "create-like #复制一个空表\n",
    "CREATE TABLE IF NOT EXISTS mydb.employees2\n",
    "like mydb.employees;"
   ]
  },
  {
   "cell_type": "markdown",
   "metadata": {},
   "source": [
    "![title](img/liketable.png)"
   ]
  },
  {
   "cell_type": "code",
   "execution_count": null,
   "metadata": {
    "collapsed": true
   },
   "outputs": [],
   "source": [
    "create table emp4 like emp;\n",
    "load data local inpath '/opt/test/emp.txt' overwrite into table emp4; "
   ]
  }
 ],
 "metadata": {
  "kernelspec": {
   "display_name": "Python 3",
   "language": "python",
   "name": "python3"
  },
  "language_info": {
   "codemirror_mode": {
    "name": "ipython",
    "version": 3
   },
   "file_extension": ".py",
   "mimetype": "text/x-python",
   "name": "python",
   "nbconvert_exporter": "python",
   "pygments_lexer": "ipython3",
   "version": "3.6.0"
  }
 },
 "nbformat": 4,
 "nbformat_minor": 2
}
