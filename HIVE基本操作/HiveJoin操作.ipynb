{
 "cells": [
  {
   "cell_type": "markdown",
   "metadata": {},
   "source": [
    "# HiveJoin"
   ]
  },
  {
   "cell_type": "raw",
   "metadata": {},
   "source": [
    "join_table:\n",
    "\n",
    "   table_reference JOIN table_factor [join_condition]\n",
    "   | table_reference {LEFT|RIGHT|FULL} [OUTER] JOIN table_reference\n",
    "   join_condition\n",
    "   | table_reference LEFT SEMI JOIN table_reference join_condition\n",
    "   | table_reference CROSS JOIN table_reference [join_condition]"
   ]
  },
  {
   "cell_type": "markdown",
   "metadata": {},
   "source": [
    "### 不同类型的联接：\n",
    "\n",
    "* JOIN\n",
    "* LEFT OUTER JOIN\n",
    "* RIGHT OUTER JOIN\n",
    "* FULL OUTER JOIN"
   ]
  },
  {
   "cell_type": "raw",
   "metadata": {},
   "source": [
    "Hive 只支持等值连接（equality joins）、外连接（outer joins）和（left/right joins）。Hive 不支持所有非等值的连接，因为非等值连接非常难转化到 map/reduce 任务。另外，Hive 支持多于 2 个表的连接。"
   ]
  },
  {
   "cell_type": "markdown",
   "metadata": {},
   "source": [
    "![title](img/join.png)"
   ]
  },
  {
   "cell_type": "markdown",
   "metadata": {},
   "source": [
    "## 示例:"
   ]
  },
  {
   "cell_type": "raw",
   "metadata": {},
   "source": [
    "表：CUSTOMERS"
   ]
  },
  {
   "cell_type": "markdown",
   "metadata": {},
   "source": [
    "\n",
    "| ID | NAME     | AGE | ADDRESS   | SALARY | \n",
    "|----|----------|----- |-----------|----------| \n",
    "| 1  | Ramesh   | 32  | Ahmedabad | 2000.00  |  \n",
    "| 2  | Khilan   | 25  | Delhi     | 1500.00  |  \n",
    "| 3  | kaushik  | 23  | Kota      | 2000.00  | \n",
    "| 4  | Chaitali | 25  | Mumbai    | 6500.00  | \n",
    "| 5  | Hardik   | 27  | Bhopal    | 8500.00  | \n",
    "| 6  | Komal    | 22  | MP        | 4500.00  | \n",
    "| 7  | Muffy    | 24  | Indore    | 10000.00 | \n"
   ]
  },
  {
   "cell_type": "raw",
   "metadata": {},
   "source": [
    "表：ORDERS"
   ]
  },
  {
   "cell_type": "markdown",
   "metadata": {},
   "source": [
    "\n",
    "|OID  | DATE                | CUSTOMER_ID | AMOUNT | \n",
    "|-----|---------------------|-------------|--------|\n",
    "| 102 | 2009-10-08 00:00:00 |           3 | 3000   | \n",
    "| 100 | 2009-10-08 00:00:00 |           3 | 1500   | \n",
    "| 101 | 2009-11-20 00:00:00 |           2 | 1560   | \n",
    "| 103 | 2008-05-20 00:00:00 |           4 | 2060   | \n"
   ]
  },
  {
   "cell_type": "markdown",
   "metadata": {},
   "source": [
    "## JOIN"
   ]
  },
  {
   "cell_type": "raw",
   "metadata": {},
   "source": [
    "JOIN子句用于合并和检索来自多个表中的记录。 JOIN和SQLOUTER JOIN 类似。连接条件是使用主键和表的外键。\n",
    "\n",
    "下面的查询执行JOIN的CUSTOMER和ORDER表，并检索记录："
   ]
  },
  {
   "cell_type": "code",
   "execution_count": null,
   "metadata": {
    "collapsed": true
   },
   "outputs": [],
   "source": [
    "hive> SELECT c.ID, c.NAME, c.AGE, o.AMOUNT \n",
    "   > FROM CUSTOMERS c JOIN ORDERS o \n",
    "   > ON (c.ID = o.CUSTOMER_ID);"
   ]
  },
  {
   "cell_type": "markdown",
   "metadata": {},
   "source": [
    "#### 成功执行查询后，能看到以下回应："
   ]
  },
  {
   "cell_type": "markdown",
   "metadata": {},
   "source": [
    "| ID | NAME     | AGE | AMOUNT | \n",
    "|-----|---------------------|-------------|--------|\n",
    "| 3  | kaushik  | 23  | 3000   | \n",
    "| 3  | kaushik  | 23  | 1500   | \n",
    "| 2  | Khilan   | 25  | 1560   | \n",
    "| 4  | Chaitali | 25  | 2060   | "
   ]
  },
  {
   "cell_type": "markdown",
   "metadata": {},
   "source": [
    "## LEFT OUTER JOIN"
   ]
  },
  {
   "cell_type": "raw",
   "metadata": {},
   "source": [
    "HiveQL LEFT OUTER JOIN返回所有行左表，即使是在正确的表中没有匹配。这意味着，如果ON子句匹配的右表0（零）记录，JOIN还是返回结果行，但在右表中的每一列为NULL。\n",
    "LEFT JOIN返回左表中的所有的值，加上右表，或JOIN子句没有匹配的情况下返回NULL。"
   ]
  },
  {
   "cell_type": "code",
   "execution_count": null,
   "metadata": {
    "collapsed": true
   },
   "outputs": [],
   "source": [
    "hive> SELECT c.ID, c.NAME, o.AMOUNT, o.DATE \n",
    "   > FROM CUSTOMERS c \n",
    "   > LEFT OUTER JOIN ORDERS o \n",
    "   > ON (c.ID = o.CUSTOMER_ID);"
   ]
  },
  {
   "cell_type": "markdown",
   "metadata": {},
   "source": [
    "#### 成功执行查询后，能看到以下回应："
   ]
  },
  {
   "cell_type": "markdown",
   "metadata": {},
   "source": [
    "| ID | NAME     | AMOUNT | DATE                | \n",
    "|-----|---------------------|-------------|--------|\n",
    "| 1  | Ramesh   | NULL   | NULL                | \n",
    "| 2  | Khilan   | 1560   | 2009-11-20 00:00:00 | \n",
    "| 3  | kaushik  | 3000   | 2009-10-08 00:00:00 | \n",
    "| 3  | kaushik  | 1500   | 2009-10-08 00:00:00 | \n",
    "| 4  | Chaitali | 2060   | 2008-05-20 00:00:00 | \n",
    "| 5  | Hardik   | NULL   | NULL                | \n",
    "| 6  | Komal    | NULL   | NULL                | \n",
    "| 7  | Muffy    | NULL   | NULL                | "
   ]
  },
  {
   "cell_type": "markdown",
   "metadata": {},
   "source": [
    "## RIGHT OUTER JOIN"
   ]
  },
  {
   "cell_type": "raw",
   "metadata": {},
   "source": [
    "HiveQL RIGHT OUTER JOIN返回右边表的所有行，即使有在左表中没有匹配。如果ON子句的左表匹配0（零）的记录，JOIN结果返回一行，但在左表中的每一列为NULL。\n",
    "RIGHT JOIN返回右表中的所有值，加上左表，或者没有匹配的情况下返回NULL。"
   ]
  },
  {
   "cell_type": "code",
   "execution_count": null,
   "metadata": {
    "collapsed": true
   },
   "outputs": [],
   "source": [
    "hive> SELECT c.ID, c.NAME, o.AMOUNT, o.DATE \n",
    "   > FROM CUSTOMERS c \n",
    "   > RIGHT OUTER JOIN ORDERS o \n",
    "   > ON (c.ID = o.CUSTOMER_ID);"
   ]
  },
  {
   "cell_type": "markdown",
   "metadata": {},
   "source": [
    "#### 成功执行查询后，能看到以下回应："
   ]
  },
  {
   "cell_type": "markdown",
   "metadata": {},
   "source": [
    "| ID   | NAME     | AMOUNT | DATE                | \n",
    "|-----|---------------------|-------------|--------|\n",
    "| 3    | kaushik  | 3000   | 2009-10-08 00:00:00 | \n",
    "| 3    | kaushik  | 1500   | 2009-10-08 00:00:00 | \n",
    "| 2    | Khilan   | 1560   | 2009-11-20 00:00:00 | \n",
    "| 4    | Chaitali | 2060   | 2008-05-20 00:00:00 | \n"
   ]
  },
  {
   "cell_type": "markdown",
   "metadata": {},
   "source": [
    "## FULL OUTER JOIN"
   ]
  },
  {
   "cell_type": "raw",
   "metadata": {},
   "source": [
    "HiveQL FULL OUTER JOIN结合了左边，并且满足JOIN条件合适外部表的记录。连接表包含两个表的所有记录，或两侧缺少匹配结果那么使用NULL值填补"
   ]
  },
  {
   "cell_type": "code",
   "execution_count": null,
   "metadata": {
    "collapsed": true
   },
   "outputs": [],
   "source": [
    "hive> SELECT c.ID, c.NAME, o.AMOUNT, o.DATE \n",
    "   > FROM CUSTOMERS c \n",
    "   > FULL OUTER JOIN ORDERS o \n",
    "   > ON (c.ID = o.CUSTOMER_ID);"
   ]
  },
  {
   "cell_type": "markdown",
   "metadata": {},
   "source": [
    "#### 成功执行查询后，能看到以下回应："
   ]
  },
  {
   "cell_type": "markdown",
   "metadata": {},
   "source": [
    "| ID   | NAME     | AMOUNT | DATE                | \n",
    "|-----|---------------------|-------------|--------|\n",
    "| 1    | Ramesh   | NULL   | NULL                | \n",
    "| 2    | Khilan   | 1560   | 2009-11-20 00:00:00 | \n",
    "| 3    | kaushik  | 3000   | 2009-10-08 00:00:00 | \n",
    "| 3    | kaushik  | 1500   | 2009-10-08 00:00:00 | \n",
    "| 4    | Chaitali | 2060   | 2008-05-20 00:00:00 | \n",
    "| 5    | Hardik   | NULL   | NULL                | \n",
    "| 6    | Komal    | NULL   | NULL                |\n",
    "| 7    | Muffy    | NULL   | NULL                |  \n",
    "| 3    | kaushik  | 3000   | 2009-10-08 00:00:00 | \n",
    "| 3    | kaushik  | 1500   | 2009-10-08 00:00:00 | \n",
    "| 2    | Khilan   | 1560   | 2009-11-20 00:00:00 | \n",
    "| 4    | Chaitali | 2060   | 2008-05-20 00:00:00 | "
   ]
  },
  {
   "cell_type": "markdown",
   "metadata": {},
   "source": [
    "## 写 join 查询时，需要注意几个关键点："
   ]
  },
  {
   "cell_type": "markdown",
   "metadata": {},
   "source": [
    "#### 只支持等值join"
   ]
  },
  {
   "cell_type": "code",
   "execution_count": null,
   "metadata": {
    "collapsed": true
   },
   "outputs": [],
   "source": [
    "eg :\n",
    "    SELECT a.* FROM a JOIN b ON (a.id = b.id)\n",
    "    SELECT a.* FROM a JOIN b\n",
    "    ON (a.id = b.id AND a.department = b.department)"
   ]
  },
  {
   "cell_type": "markdown",
   "metadata": {},
   "source": [
    "#### 可以join 多于2个表"
   ]
  },
  {
   "cell_type": "code",
   "execution_count": null,
   "metadata": {
    "collapsed": true
   },
   "outputs": [],
   "source": [
    "eg:\n",
    "     SELECT a.val, b.val, c.val FROM a JOIN b\n",
    "    ON (a.key = b.key1) JOIN c ON (c.key = b.key2)"
   ]
  },
  {
   "cell_type": "raw",
   "metadata": {},
   "source": [
    "如果join中多个表的 join key 是同一个，则 join 会被转化为单个 map/reduce 任务"
   ]
  },
  {
   "cell_type": "code",
   "execution_count": null,
   "metadata": {
    "collapsed": true
   },
   "outputs": [],
   "source": [
    " eg:\n",
    "    SELECT a.val, b.val, c.val FROM a JOIN b\n",
    "    ON (a.key = b.key1) JOIN c\n",
    "    ON (c.key = b.key1)"
   ]
  },
  {
   "cell_type": "raw",
   "metadata": {},
   "source": [
    "被转化为单个 map/reduce 任务，因为 join 中只使用了 b.key1 作为 join key。"
   ]
  },
  {
   "cell_type": "code",
   "execution_count": null,
   "metadata": {
    "collapsed": true
   },
   "outputs": [],
   "source": [
    "eg:\n",
    "    \n",
    "SELECT a.val, b.val, c.val FROM a JOIN b ON (a.key = b.key1)\n",
    "  JOIN c ON (c.key = b.key2)\n",
    "\n",
    "    #join 被转化为 2 个 map/reduce 任务。因为 b.key1 用于第一次 join 条件，而 b.key2 用于第二次 join。"
   ]
  },
  {
   "cell_type": "markdown",
   "metadata": {},
   "source": [
    "#### join 时，每次 map/reduce 任务的逻辑"
   ]
  },
  {
   "cell_type": "raw",
   "metadata": {},
   "source": [
    "reducer 会缓存 join 序列中除了最后一个表的所有表的记录，再通过最后一个表将结果序列化到文件系统。这一实现有助 于在 reduce 端减少内存的使用量。\n",
    "实践中，应该把最大的那个表写在最后（否则会因为缓存浪费大量内存）。"
   ]
  },
  {
   "cell_type": "code",
   "execution_count": null,
   "metadata": {
    "collapsed": true
   },
   "outputs": [],
   "source": [
    "eg:\n",
    "     SELECT a.val, b.val, c.val FROM a\n",
    "    JOIN b ON (a.key = b.key1) JOIN c ON (c.key = b.key1)\n",
    "'''\n",
    "所有表都使用同一个 join key（使用 1 次 map/reduce 任务计算）。\n",
    "Reduce 端会缓存 a 表和 b 表的记录，然后每次取得一个 c 表的记录就计算一次 join 结果\n",
    "'''"
   ]
  },
  {
   "cell_type": "code",
   "execution_count": null,
   "metadata": {
    "collapsed": false
   },
   "outputs": [],
   "source": [
    "eg:\n",
    "     SELECT a.val, b.val, c.val FROM a\n",
    "    JOIN b ON (a.key = b.key1) JOIN c ON (c.key = b.key2)\n",
    "'''\n",
    "这里用了 2 次 map/reduce 任务。第一次缓存 a 表，用 b 表序列化；\n",
    "第二次缓存第一次 map/reduce 任务的结果，然后用 c 表序列化。\n",
    "'''"
   ]
  },
  {
   "cell_type": "markdown",
   "metadata": {},
   "source": [
    "#### LEFT，RIGHT 和 FULL OUTER 关键字用于处理 join 中空记录的情况"
   ]
  },
  {
   "cell_type": "code",
   "execution_count": null,
   "metadata": {
    "collapsed": true
   },
   "outputs": [],
   "source": [
    "eg:\n",
    "    SELECT a.val, b.val FROM a LEFT OUTER\n",
    "    JOIN b ON (a.key=b.key)"
   ]
  },
  {
   "cell_type": "raw",
   "metadata": {},
   "source": [
    "对应所有 a 表中的记录都有一条记录输出。输出的结果应该是 a.val, b.val，当 a.key=b.key 时，而当 b.key 中找不到等值的 a.key 记录时也会输出 a.val, NULL。“FROM a LEFT OUTER JOIN b”这句一定要写在同一行——意思是 a 表在 b 表的左边，所以 a 表中的所有记录都被保留了；“a RIGHT OUTER JOIN b”会保留所有 b 表的记录。OUTER JOIN 语义应该是遵循标准 SQL spec的。"
   ]
  },
  {
   "cell_type": "raw",
   "metadata": {},
   "source": [
    "Join 发生在 WHERE 子句之前。如果你想限制 join 的输出，应该在 WHERE 子句中写过滤条件——或是在 join 子句中写。\n",
    "这里面一个容易混淆的问题是表分区的情况："
   ]
  },
  {
   "cell_type": "code",
   "execution_count": null,
   "metadata": {
    "collapsed": true
   },
   "outputs": [],
   "source": [
    "eg:\n",
    "      SELECT a.val, b.val FROM a\n",
    "  LEFT OUTER JOIN b ON (a.key=b.key)\n",
    "  WHERE a.ds='2009-07-07' AND b.ds='2009-07-07'"
   ]
  },
  {
   "cell_type": "raw",
   "metadata": {},
   "source": [
    "join a 表到 b 表（OUTER JOIN），列出 a.val 和 b.val 的记录。WHERE 从句中可以使用其他列作为过滤条件。但是，如前所述，如果 b 表中找不到对应 a 表的记录，b 表的所有列都会列出 NULL，包括 ds 列。也就是说，join 会过滤 b 表中不能找到匹配 a 表 join key 的所有记录。这样的话，LEFT OUTER 就使得查询结果与 WHERE 子句无关了。解决的办法是在 OUTER JOIN 时使用以下语法："
   ]
  },
  {
   "cell_type": "code",
   "execution_count": null,
   "metadata": {
    "collapsed": true
   },
   "outputs": [],
   "source": [
    "  eg:\n",
    "    SELECT a.val, b.val FROM a LEFT OUTER JOIN b\n",
    "  ON (a.key=b.key AND\n",
    "      b.ds='2009-07-07' AND\n",
    "      a.ds='2009-07-07')\n",
    "'''\n",
    "这一查询的结果是预先在 join 阶段过滤过的，所以不会存在上述问题。这一逻辑也可以应用于 RIGHT 和 FULL 类型的 join 中。\n",
    "'''"
   ]
  },
  {
   "cell_type": "code",
   "execution_count": null,
   "metadata": {
    "collapsed": false
   },
   "outputs": [],
   "source": [
    "eg:\n",
    "     SELECT a.val1, a.val2, b.val, c.val\n",
    "  FROM a\n",
    "  JOIN b ON (a.key = b.key)\n",
    "  LEFT OUTER JOIN c ON (a.key = c.key)\n",
    "'''\n",
    "join a 表到 b 表，丢弃掉所有 join key 中不匹配的记录，然后用这一中间结果和 c 表做 join。\n",
    "这一表述有一个不太明显的问题，就是当一个 key 在 a 表和 c 表都存在，但是 b 表中不存在的时候：\n",
    "整个记录在第一次 join，即 a JOIN b 的时候都被丢掉了（包括a.val1，a.val2和a.key），\n",
    "然后我们再和 c 表 join 的时候，如果 c.key 与 a.key 或 b.key 相等，就会得到这样的结果：\n",
    "NULL, NULL, NULL, c.val。（不会这样）\n",
    "'''"
   ]
  },
  {
   "cell_type": "markdown",
   "metadata": {},
   "source": [
    "#### LEFT SEMI JOIN 是 IN/EXISTS 子查询的一种更高效的实现。"
   ]
  },
  {
   "cell_type": "raw",
   "metadata": {},
   "source": [
    "Hive 当前没有实现 IN/EXISTS 子查询，所以你可以用 LEFT SEMI JOIN 重写你的子查询语句。LEFT SEMI JOIN 的限制是，\n",
    "JOIN 子句中右边的表只能在 ON 子句中设置过滤条件，在 WHERE 子句、SELECT 子句或其他地方过滤都不行。"
   ]
  },
  {
   "cell_type": "code",
   "execution_count": null,
   "metadata": {
    "collapsed": true
   },
   "outputs": [],
   "source": [
    "eg:\n",
    "  SELECT a.key, a.value\n",
    "  FROM a\n",
    "  WHERE a.key in\n",
    "   (SELECT b.key\n",
    "    FROM B);\n",
    "可以被重写为：\n",
    "   SELECT a.key, a.val\n",
    "   FROM a LEFT SEMI JOIN b on (a.key = b.key)"
   ]
  },
  {
   "cell_type": "markdown",
   "metadata": {},
   "source": [
    "# HSQL中join与left-join区别"
   ]
  },
  {
   "cell_type": "markdown",
   "metadata": {},
   "source": [
    "## Inner Join"
   ]
  },
  {
   "cell_type": "code",
   "execution_count": null,
   "metadata": {
    "collapsed": true
   },
   "outputs": [],
   "source": [
    "presto:default> select count(*)\n",
    "             -> from dw.kn2_ord_order_detail_daily_change t1\n",
    "             ->  join dw.kn2_ehr_person_organization t2 on t1.follow_saler_id=t2.empl_id  and  t2.dt='20180813'\n",
    "             -> where  t1.dt='20180813';"
   ]
  },
  {
   "cell_type": "markdown",
   "metadata": {},
   "source": [
    "![title](img/innerjoin1.png)"
   ]
  },
  {
   "cell_type": "code",
   "execution_count": null,
   "metadata": {
    "collapsed": true
   },
   "outputs": [],
   "source": [
    "公共部分的数据才会被查询出来；"
   ]
  },
  {
   "cell_type": "markdown",
   "metadata": {},
   "source": [
    "![title](img/innerjoin.png)"
   ]
  },
  {
   "cell_type": "markdown",
   "metadata": {},
   "source": [
    "## Left Join"
   ]
  },
  {
   "cell_type": "code",
   "execution_count": null,
   "metadata": {
    "collapsed": true
   },
   "outputs": [],
   "source": [
    "presto:default> select count(*)\n",
    "             -> from dw.kn2_ord_order_detail_daily_change t1\n",
    "             ->  left join dw.kn2_ehr_person_organization t2 on t1.follow_saler_id=t2.empl_id  and  t2.dt='20180813'\n",
    "             -> where  t1.dt='20180813';"
   ]
  },
  {
   "cell_type": "markdown",
   "metadata": {},
   "source": [
    "![title](img/leftjoin1.png)"
   ]
  },
  {
   "cell_type": "raw",
   "metadata": {},
   "source": [
    "查询出来的结果和前表记录数一样多；"
   ]
  },
  {
   "cell_type": "markdown",
   "metadata": {},
   "source": [
    "![title](img/leftjoin.png)"
   ]
  },
  {
   "cell_type": "markdown",
   "metadata": {
    "collapsed": true
   },
   "source": [
    "# left join on and 与 left join on where的区别"
   ]
  },
  {
   "cell_type": "raw",
   "metadata": {},
   "source": [
    "数据库在通过连接两张或多张表来返回记录时，都会生成一张中间的临时表，然后再将这张临时表返回给用户。"
   ]
  },
  {
   "cell_type": "raw",
   "metadata": {},
   "source": [
    "在使用left jion时，on和where条件的区别如下："
   ]
  },
  {
   "cell_type": "markdown",
   "metadata": {},
   "source": [
    "- **on条件是在生成临时表时使用的条件，它不管on中的条件是否为真，都会返回左边表中的记录**\n",
    "- **where条件是在临时表生成好后，再对临时表进行过滤的条件。这时已经没有left join的含义(必须返回左边表的记录)，条件不为真的就全部过滤掉。**"
   ]
  },
  {
   "cell_type": "markdown",
   "metadata": {},
   "source": [
    "## 示例"
   ]
  },
  {
   "cell_type": "raw",
   "metadata": {},
   "source": [
    "表1：tab1"
   ]
  },
  {
   "cell_type": "markdown",
   "metadata": {},
   "source": [
    "| id   | size     |\n",
    "|-----|------------\n",
    "| 1    | 10  |\n",
    "| 2    | 20  |\n",
    "| 3    | 30   |\n",
    "| 4    | 40   |"
   ]
  },
  {
   "cell_type": "code",
   "execution_count": null,
   "metadata": {
    "collapsed": true
   },
   "outputs": [],
   "source": [
    "产生表语句:\n",
    "    create table tab1 as \n",
    "    select 1 as id1,10 as size from dual\n",
    "    union all\n",
    "    select 2 as id1,20 as size from dual\n",
    "    union all \n",
    "    select 3 as id1,30 as size from dual\n",
    "    union all\n",
    "    select 4 as id1,40 as size from dual;"
   ]
  },
  {
   "cell_type": "raw",
   "metadata": {},
   "source": [
    "表2：tab2"
   ]
  },
  {
   "cell_type": "markdown",
   "metadata": {},
   "source": [
    "| size   | name     |\n",
    "|-----|------------\n",
    "| 10    | AAA  |\n",
    "| 20    | BBB  |\n",
    "| 30   | CCC   |\n",
    "| 30   | DDD   |\n",
    "| 50   | EEE   |"
   ]
  },
  {
   "cell_type": "code",
   "execution_count": null,
   "metadata": {
    "collapsed": true
   },
   "outputs": [],
   "source": [
    "产生表语句:\n",
    "    create table tab2 as \n",
    "    select 10 as size,'AAA' as name from dual\n",
    "    union all\n",
    "    select 20 as size,'BBB' as name from dual\n",
    "    union all \n",
    "    select 30 as size,'CCC' as name from dual\n",
    "    union all\n",
    "    select 30 as size,'DDD' as name from dual\n",
    "    union all \n",
    "    select 50 as size,'EEE' as name from dual;"
   ]
  },
  {
   "cell_type": "code",
   "execution_count": null,
   "metadata": {
    "collapsed": true
   },
   "outputs": [],
   "source": [
    "两条SQL：\n",
    "    select * from tab1 left join tab2 on (tab1.size = tab2.size) where tab2.name='AAA';\n",
    "    select * from tab1 left join tab2 on (tab1.size = tab2.size and tab2.name='AAA');"
   ]
  },
  {
   "cell_type": "markdown",
   "metadata": {},
   "source": [
    "**先看left join on where 选择结果 首先它会关联生成临时表数据;然后在通过where条件进行筛选**"
   ]
  },
  {
   "cell_type": "markdown",
   "metadata": {},
   "source": [
    "![title](img/join_on_where.png)"
   ]
  },
  {
   "cell_type": "markdown",
   "metadata": {},
   "source": [
    "**接下来我们在分析left join on and处理过程，它的处理过程是先将右侧表以and为条件进行筛选 再和左侧表进行关联查询；最终的结果就是以左侧表为基础 将右侧符合条件的数据置为null 结果如下; **"
   ]
  },
  {
   "cell_type": "markdown",
   "metadata": {},
   "source": [
    "![title](img/join_on_and.png)"
   ]
  },
  {
   "cell_type": "raw",
   "metadata": {},
   "source": [
    "其实以上结果的关键原因就是left join,right join,full join的特殊性，不管on上的条件是否为真都会返回left或right表中的记录，full则具有left和right的特性的并集。而inner jion没这个特殊性，则条件放在on中和where中，返回的结果集是相同的。"
   ]
  },
  {
   "cell_type": "markdown",
   "metadata": {},
   "source": [
    "### left join "
   ]
  },
  {
   "cell_type": "code",
   "execution_count": null,
   "metadata": {
    "collapsed": true
   },
   "outputs": [],
   "source": [
    "presto:default> select t1.id1 ,t1.size,t2.name from tab1 t1 left join tab2 t2 on t1.size=t2.size;\n",
    " id1 | size | name \n",
    "-----+------+------\n",
    "   4 |   40 | NULL \n",
    "   3 |   30 | DDD  \n",
    "   3 |   30 | CCC  \n",
    "   1 |   10 | AAA  \n",
    "   2 |   20 | BBB  \n",
    "(5 rows)"
   ]
  },
  {
   "cell_type": "markdown",
   "metadata": {},
   "source": [
    "### right join"
   ]
  },
  {
   "cell_type": "code",
   "execution_count": null,
   "metadata": {
    "collapsed": true
   },
   "outputs": [],
   "source": [
    "presto:default> select t1.id1 ,t1.size,t2.name from tab1 t1 right join tab2 t2 on t1.size=t2.size;\n",
    " id1  | size | name \n",
    "------+------+------\n",
    "    2 |   20 | BBB  \n",
    "    1 |   10 | AAA  \n",
    " NULL | NULL | EEE  \n",
    "    3 |   30 | DDD  \n",
    "    3 |   30 | CCC  \n",
    "(5 rows)"
   ]
  },
  {
   "cell_type": "markdown",
   "metadata": {},
   "source": [
    "### join"
   ]
  },
  {
   "cell_type": "code",
   "execution_count": null,
   "metadata": {
    "collapsed": true
   },
   "outputs": [],
   "source": [
    "presto:default> select t1.id1 ,t1.size,t2.name from tab1 t1 join tab2 t2 on t1.size=t2.size;\n",
    " id1 | size | name \n",
    "-----+------+------\n",
    "   2 |   20 | BBB  \n",
    "   3 |   30 | DDD  \n",
    "   3 |   30 | CCC  \n",
    "   1 |   10 | AAA  \n",
    "(4 rows)"
   ]
  },
  {
   "cell_type": "markdown",
   "metadata": {},
   "source": [
    "### full join"
   ]
  },
  {
   "cell_type": "code",
   "execution_count": null,
   "metadata": {
    "collapsed": true
   },
   "outputs": [],
   "source": [
    "presto:default> select t1.id1 ,t1.size,t2.name from tab1 t1 full join tab2 t2 on t1.size=t2.size;\n",
    " id1  | size | name \n",
    "------+------+------\n",
    "    3 |   30 | DDD  \n",
    "    3 |   30 | CCC  \n",
    "    1 |   10 | AAA  \n",
    "    4 |   40 | NULL \n",
    " NULL | NULL | EEE  \n",
    "    2 |   20 | BBB  \n",
    "(6 rows)"
   ]
  },
  {
   "cell_type": "code",
   "execution_count": null,
   "metadata": {
    "collapsed": true
   },
   "outputs": [],
   "source": [
    "presto:default> select *from tab1;\n",
    " id1 | size \n",
    "-----+------\n",
    "   1 |   10 \n",
    "   2 |   20 \n",
    "   3 |   30 \n",
    "   4 |   40 \n",
    "(4 rows)\n",
    "\n",
    "presto:default> select *from tab2;\n",
    " size | name \n",
    "------+------\n",
    "   10 | AAA  \n",
    "   20 | BBB  \n",
    "   30 | CCC  \n",
    "   30 | DDD  \n",
    "   50 | EEE  \n",
    "(5 rows)\n",
    "\n",
    "presto:default> select *from tab1 t1 full join tab2 t2 on t1.size=t2.size;\n",
    " id1  | size | size | name \n",
    "------+------+------+------\n",
    "    1 |   10 |   10 | AAA  \n",
    "    2 |   20 |   20 | BBB  \n",
    " NULL | NULL |   50 | EEE  \n",
    "    3 |   30 |   30 | DDD  \n",
    "    3 |   30 |   30 | CCC  \n",
    "    4 |   40 | NULL | NULL \n",
    "(6 rows)\n",
    "\n",
    "hive (default)> select id1,nvl(t1.size,t2.size) as size,name from tab1 t1 full join tab2 t2 on t1.size=t2.size;\n",
    "OK\n",
    "id1\tsize\tname\n",
    "1\t10\tAAA\n",
    "2\t20\tBBB\n",
    "3\t30\tDDD\n",
    "3\t30\tCCC\n",
    "4\t40\tNULL\n",
    "NULL\t50\tEEE\n",
    "\n"
   ]
  },
  {
   "cell_type": "markdown",
   "metadata": {},
   "source": [
    "## 检查 逻辑 或 的用法"
   ]
  },
  {
   "cell_type": "code",
   "execution_count": null,
   "metadata": {
    "collapsed": true
   },
   "outputs": [],
   "source": [
    "产生表语句：\n",
    "    create table tab3 as\n",
    "    select t1.id1 ,t1.size,t2.name from tab1 t1 full join tab2 t2 on t1.size=t2.size"
   ]
  },
  {
   "cell_type": "markdown",
   "metadata": {},
   "source": [
    "| id1  | size | name| \n",
    "|------|------|------|\n",
    " |   3 |   30 | DDD  |\n",
    " |   3 |   30 | CCC  |\n",
    " |   1 |   10 | AAA  |\n",
    " |   4 |   40 | NULL |\n",
    " |NULL | NULL | EEE  |\n",
    "|    2 |   20 | BBB |"
   ]
  },
  {
   "cell_type": "code",
   "execution_count": null,
   "metadata": {
    "collapsed": true
   },
   "outputs": [],
   "source": [
    "    create table tab4 as\n",
    "    select id1,size,name from tab3\n",
    "    union all \n",
    "    select  99 as id1,null as size,'TTT' as name from dual\n",
    "    union all \n",
    "    select  8 as id1,null as size,'HHH' as name from dual\n",
    "    union all \n",
    "    select  null as id1,76 as size,'HHH' as name from dual\n",
    "    ;"
   ]
  },
  {
   "cell_type": "markdown",
   "metadata": {},
   "source": [
    "| id1  | size | name| \n",
    "|-----|-----|-----|\n",
    " |   1 |   10 | AAA  |\n",
    " |   2 |   20 | BBB  |\n",
    " |   3 |   30 | DDD  |\n",
    " |   3 |   30 | CCC  |\n",
    " |   4 |   40 | NULL |\n",
    "| NULL | NULL | EEE  |\n",
    "|   99 | NULL | TTT  |\n",
    "|    8 | NULL | HHH  |\n",
    "| NULL |   76 | HHH|"
   ]
  },
  {
   "cell_type": "code",
   "execution_count": null,
   "metadata": {
    "collapsed": true
   },
   "outputs": [],
   "source": [
    "presto:default> select *from tab4 where id1 is not null or size is not null;\n",
    " id1  | size | name \n",
    "------+------+------\n",
    "    1 |   10 | AAA  \n",
    "    2 |   20 | BBB  \n",
    "    3 |   30 | DDD  \n",
    "    3 |   30 | CCC  \n",
    "    4 |   40 | NULL \n",
    "   99 | NULL | TTT  \n",
    "    8 | NULL | HHH  \n",
    " NULL |   76 | HHH  \n",
    "(8 rows)"
   ]
  },
  {
   "cell_type": "markdown",
   "metadata": {},
   "source": [
    "## Union all 与Union 的区别"
   ]
  },
  {
   "cell_type": "raw",
   "metadata": {},
   "source": [
    "使用DISTINCT关键字与使用UNION 默认值效果一样，都会删除重复行 \n",
    "使用ALL关键字，不会删除重复行，结果集包括所有SELECT语句的匹配行（包括重复行）"
   ]
  },
  {
   "cell_type": "markdown",
   "metadata": {},
   "source": [
    "### 操作 tab3 和 tab4 Union all"
   ]
  },
  {
   "cell_type": "raw",
   "metadata": {},
   "source": [
    "操作语句： \n",
    "    select *from tab3 union all select *from tab4;"
   ]
  },
  {
   "cell_type": "markdown",
   "metadata": {},
   "source": [
    "![title](img/UnionAll.png)"
   ]
  },
  {
   "cell_type": "markdown",
   "metadata": {},
   "source": [
    "### 操作 tab3 和 tab4 Union "
   ]
  },
  {
   "cell_type": "markdown",
   "metadata": {},
   "source": [
    "操作语句： \n",
    "    select *from tab3 union all select *from tab4;"
   ]
  },
  {
   "cell_type": "markdown",
   "metadata": {},
   "source": [
    "![title](img/Union.png)"
   ]
  },
  {
   "cell_type": "code",
   "execution_count": null,
   "metadata": {
    "collapsed": true
   },
   "outputs": [],
   "source": []
  },
  {
   "cell_type": "code",
   "execution_count": null,
   "metadata": {
    "collapsed": true
   },
   "outputs": [],
   "source": []
  }
 ],
 "metadata": {
  "kernelspec": {
   "display_name": "Python 3",
   "language": "python",
   "name": "python3"
  },
  "language_info": {
   "codemirror_mode": {
    "name": "ipython",
    "version": 3
   },
   "file_extension": ".py",
   "mimetype": "text/x-python",
   "name": "python",
   "nbconvert_exporter": "python",
   "pygments_lexer": "ipython3",
   "version": "3.6.0"
  }
 },
 "nbformat": 4,
 "nbformat_minor": 2
}
