{
 "cells": [
  {
   "cell_type": "markdown",
   "metadata": {},
   "source": [
    "*和我们熟悉的关系型数据库不一样，Hive现在还不支持在insert语句里面直接给出一组记录的文字形式，也就是说，Hive并不支持INSERT INTO …. VALUES形式的语句。*"
   ]
  },
  {
   "cell_type": "markdown",
   "metadata": {
    "collapsed": true
   },
   "source": [
    "## Drop Partitions（删除分区）"
   ]
  },
  {
   "cell_type": "code",
   "execution_count": null,
   "metadata": {
    "collapsed": true
   },
   "outputs": [],
   "source": [
    "alter table ol_power_product_line_dept_1_dim drop partition(dt='${date_90}');#删除分区\n",
    "dfs -rm -r -f /ol/ol_power_product_line_dept_1_dim/dt=${date_90};  #删除外部文件"
   ]
  },
  {
   "cell_type": "markdown",
   "metadata": {},
   "source": [
    "# Rename Table"
   ]
  },
  {
   "cell_type": "code",
   "execution_count": null,
   "metadata": {
    "collapsed": true
   },
   "outputs": [],
   "source": [
    "ALTER TABLE table_name RENAME TO new_table_name"
   ]
  },
  {
   "cell_type": "markdown",
   "metadata": {},
   "source": [
    "# Change Column"
   ]
  },
  {
   "cell_type": "code",
   "execution_count": null,
   "metadata": {
    "collapsed": true
   },
   "outputs": [],
   "source": [
    "ALTER TABLE table_name Change [COLUMN] col_old_name col_new_name column_type [COMMENT col_comment]\n",
    "[FIRST|AFTER column_name]"
   ]
  },
  {
   "cell_type": "raw",
   "metadata": {},
   "source": [
    "这个命令可以允许改变列名、数据类型、注释、列位置或者它们的任意组合"
   ]
  },
  {
   "cell_type": "code",
   "execution_count": null,
   "metadata": {
    "collapsed": true
   },
   "outputs": [],
   "source": [
    "eg:\n",
    "    Add/Replace Columns\n",
    "    ALTER TABLE table_name ADD|REPLACE COLUMNS \n",
    "    (col_name data_type [COMMENT col_comment], ...)\n"
   ]
  },
  {
   "cell_type": "raw",
   "metadata": {},
   "source": [
    "ADD是代表新增一字段，字段位置在所有列后面(partition列前);REPLACE则是表示替换表中所有字段。"
   ]
  },
  {
   "cell_type": "markdown",
   "metadata": {},
   "source": [
    "![title](img/renametable.png)"
   ]
  },
  {
   "cell_type": "markdown",
   "metadata": {},
   "source": [
    "# Create View"
   ]
  },
  {
   "cell_type": "code",
   "execution_count": null,
   "metadata": {
    "collapsed": true
   },
   "outputs": [],
   "source": [
    "CREATE VIEW [IF NOT EXISTS] view_name [ (column_name [COMMENT column_comment], ...) ]\n",
    "[COMMENT view_comment]\n",
    "[TBLPROPERTIES (property_name = property_value, ...)]\n",
    "AS SELECT ..."
   ]
  },
  {
   "cell_type": "markdown",
   "metadata": {},
   "source": [
    "# DROP"
   ]
  },
  {
   "cell_type": "raw",
   "metadata": {},
   "source": [
    "删除一个内部表的同时会同时删除表的元数据和数据。删除一个外部表，只删除元数据而保留数据。"
   ]
  },
  {
   "cell_type": "raw",
   "metadata": {},
   "source": [
    "DROP TABLE [IF EXISTS] table_name;"
   ]
  },
  {
   "cell_type": "code",
   "execution_count": null,
   "metadata": {
    "collapsed": true
   },
   "outputs": [],
   "source": [
    "hive (default)> drop table tmp_ol_power_follower_saler_orgnization_1_dim_1;"
   ]
  },
  {
   "cell_type": "markdown",
   "metadata": {},
   "source": [
    "# Show"
   ]
  },
  {
   "cell_type": "raw",
   "metadata": {},
   "source": [
    "查看表名:"
   ]
  },
  {
   "cell_type": "code",
   "execution_count": null,
   "metadata": {
    "collapsed": true
   },
   "outputs": [],
   "source": [
    "show tables; #查看表 记得先进入库 use mydb\n",
    "show tables in mydb; #在不同的数据库查看别的数据库内的表"
   ]
  },
  {
   "cell_type": "raw",
   "metadata": {},
   "source": [
    "查看表名，部分匹配 用通配符"
   ]
  },
  {
   "cell_type": "code",
   "execution_count": null,
   "metadata": {
    "collapsed": true
   },
   "outputs": [],
   "source": [
    "SHOW TABLES 'page.*';\n",
    "SHOW TABLES '.*view';"
   ]
  },
  {
   "cell_type": "markdown",
   "metadata": {},
   "source": [
    "![title](img/showtableslike.png)"
   ]
  },
  {
   "cell_type": "raw",
   "metadata": {},
   "source": [
    "查看某表的所有Partition，如果没有就报错："
   ]
  },
  {
   "cell_type": "code",
   "execution_count": null,
   "metadata": {
    "collapsed": false
   },
   "outputs": [],
   "source": [
    "SHOW PARTITIONS page_view;"
   ]
  },
  {
   "cell_type": "raw",
   "metadata": {},
   "source": [
    "查看表结构"
   ]
  },
  {
   "cell_type": "code",
   "execution_count": null,
   "metadata": {
    "collapsed": true
   },
   "outputs": [],
   "source": [
    "DESCRIBE EXTENDED mydb.employees ; #查看mydb数据库中employees表的属性\n",
    "DESCRIBE mydb.employees.salary; #查看 列salary的描述属性"
   ]
  },
  {
   "cell_type": "raw",
   "metadata": {},
   "source": [
    "查看分区内容"
   ]
  },
  {
   "cell_type": "code",
   "execution_count": null,
   "metadata": {
    "collapsed": true
   },
   "outputs": [],
   "source": [
    "SELECT a.foo FROM invites a WHERE a.ds='2008-08-15';"
   ]
  },
  {
   "cell_type": "raw",
   "metadata": {},
   "source": [
    "查看有限行内容，同Greenplum，用limit关键词"
   ]
  },
  {
   "cell_type": "code",
   "execution_count": null,
   "metadata": {
    "collapsed": true
   },
   "outputs": [],
   "source": [
    "SELECT a.foo FROM invites a limit 3;"
   ]
  },
  {
   "cell_type": "raw",
   "metadata": {},
   "source": [
    "查看表分区定义"
   ]
  },
  {
   "cell_type": "code",
   "execution_count": null,
   "metadata": {
    "collapsed": true
   },
   "outputs": [],
   "source": [
    "DESCRIBE EXTENDED page_view PARTITION (ds='2008-08-08');"
   ]
  },
  {
   "cell_type": "code",
   "execution_count": null,
   "metadata": {
    "collapsed": true
   },
   "outputs": [],
   "source": []
  }
 ],
 "metadata": {
  "kernelspec": {
   "display_name": "Python 3",
   "language": "python",
   "name": "python3"
  },
  "language_info": {
   "codemirror_mode": {
    "name": "ipython",
    "version": 3
   },
   "file_extension": ".py",
   "mimetype": "text/x-python",
   "name": "python",
   "nbconvert_exporter": "python",
   "pygments_lexer": "ipython3",
   "version": "3.6.0"
  }
 },
 "nbformat": 4,
 "nbformat_minor": 2
}
