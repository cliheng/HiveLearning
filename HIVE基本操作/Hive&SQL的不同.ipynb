{
 "cells": [
  {
   "cell_type": "raw",
   "metadata": {},
   "source": [
    "Hive 和Mysql 一样，都对 大小写不敏感"
   ]
  },
  {
   "cell_type": "markdown",
   "metadata": {},
   "source": [
    "![title](img/Hive&Sql.png)"
   ]
  },
  {
   "cell_type": "markdown",
   "metadata": {},
   "source": [
    "# Hive不支持等值连接 "
   ]
  },
  {
   "cell_type": "raw",
   "metadata": {},
   "source": [
    "SQL中对两表内联可以写成："
   ]
  },
  {
   "cell_type": "code",
   "execution_count": null,
   "metadata": {
    "collapsed": true
   },
   "outputs": [],
   "source": [
    "select * from dual a,dual b where a.key = b.key;"
   ]
  },
  {
   "cell_type": "raw",
   "metadata": {},
   "source": [
    "Hive中应为"
   ]
  },
  {
   "cell_type": "code",
   "execution_count": null,
   "metadata": {
    "collapsed": true
   },
   "outputs": [],
   "source": [
    "select * from dual a join dual b on a.key = b.key; "
   ]
  },
  {
   "cell_type": "markdown",
   "metadata": {},
   "source": [
    "# IS [NOT] NULL"
   ]
  },
  {
   "cell_type": "raw",
   "metadata": {},
   "source": [
    "SQL中null代表空值, 值得警惕的是, 在HiveQL中String类型的字段若是空(empty)字符串, 即长度为0, 那么对它进行IS NULL的判断结果是False."
   ]
  },
  {
   "cell_type": "raw",
   "metadata": {},
   "source": [
    "hive不支持INSERT INTO 表 Values（）, UPDATE, DELETE操作\n",
    "这样的话，就不要很复杂的锁机制来读写数据。\n",
    "INSERT INTO syntax is only available starting in version 0.8。INSERT INTO就是在表或分区中追加数据。"
   ]
  },
  {
   "cell_type": "markdown",
   "metadata": {
    "collapsed": true
   },
   "source": [
    "# Data Manipulation Language (DML操作)"
   ]
  },
  {
   "cell_type": "raw",
   "metadata": {},
   "source": [
    "传统意义的DML包括Insert，delete，update操作\n",
    "Hive不支持行级别的Insert，delete,update操作，将数据放入表中的唯一办法是批量载入（bulk load）,或使用Hive以外的其他方法。作为数据仓库平台，这种操作逻辑尚可接受。"
   ]
  },
  {
   "cell_type": "markdown",
   "metadata": {
    "collapsed": true
   },
   "source": [
    "# Hive查询子表查询需要加名称"
   ]
  },
  {
   "cell_type": "code",
   "execution_count": null,
   "metadata": {
    "collapsed": true
   },
   "outputs": [],
   "source": [
    " select count(*) from\n",
    "    (select deptid ,count(*) as num  from tmp_kn1_ehr_person_organization_20180817 where one_department is not Null\n",
    "     group by   deptid ) t2"
   ]
  }
 ],
 "metadata": {
  "kernelspec": {
   "display_name": "Python 3",
   "language": "python",
   "name": "python3"
  },
  "language_info": {
   "codemirror_mode": {
    "name": "ipython",
    "version": 3
   },
   "file_extension": ".py",
   "mimetype": "text/x-python",
   "name": "python",
   "nbconvert_exporter": "python",
   "pygments_lexer": "ipython3",
   "version": "3.6.0"
  }
 },
 "nbformat": 4,
 "nbformat_minor": 2
}
