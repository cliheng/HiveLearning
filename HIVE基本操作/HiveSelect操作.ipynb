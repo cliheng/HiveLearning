{
 "cells": [
  {
   "cell_type": "markdown",
   "metadata": {},
   "source": [
    "# 保存select查询结果的几种方式"
   ]
  },
  {
   "cell_type": "raw",
   "metadata": {},
   "source": [
    "1.将查询结果保存到一张新的hive表中"
   ]
  },
  {
   "cell_type": "raw",
   "metadata": {},
   "source": [
    "create table t_tmp\n",
    "as\n",
    "select * from t_p;"
   ]
  },
  {
   "cell_type": "raw",
   "metadata": {},
   "source": [
    "2将查询结果保存到一张已经存在的hive表中"
   ]
  },
  {
   "cell_type": "code",
   "execution_count": null,
   "metadata": {
    "collapsed": true
   },
   "outputs": [],
   "source": [
    "eg:(into 增量增加)\n",
    "insert into table t_tmp\n",
    "select * from t_p;\n",
    "\n",
    "#-----------------------------------------------------\n",
    "eg:(overwrite 覆盖增加)\n",
    "insert overwrite table ol_oitf_interface_auc_dimension_value_business\n",
    "select *\n",
    "  from tmp_auc_dimension_value_business_new;"
   ]
  },
  {
   "cell_type": "raw",
   "metadata": {},
   "source": [
    "3.将查询结果保存到指定的文件目录（可以是本地，也可以是HDFS）"
   ]
  },
  {
   "cell_type": "code",
   "execution_count": null,
   "metadata": {
    "collapsed": true
   },
   "outputs": [],
   "source": [
    "insert overwrite local directory '/home/hadoop/test'\n",
    "select * from t_p;\n",
    "#---------------------------------------------------\n",
    "#插入HDFS\n",
    "insert overwrite directory '/aaa/test'\n",
    "select * from t_p;"
   ]
  },
  {
   "cell_type": "markdown",
   "metadata": {
    "collapsed": true
   },
   "source": [
    "# Group By操作"
   ]
  },
  {
   "cell_type": "raw",
   "metadata": {},
   "source": [
    "GROUP BY子句的语法如下：\n",
    "SELECT [ALL | DISTINCT] select_expr, select_expr, ... \n",
    "FROM table_reference \n",
    "[WHERE where_condition] \n",
    "[GROUP BY col_list] \n",
    "[HAVING having_condition] \n",
    "[ORDER BY col_list]] \n",
    "[LIMIT number];"
   ]
  },
  {
   "cell_type": "raw",
   "metadata": {},
   "source": [
    "eg：\n",
    "SELECT pageid, age, count(1) FROM pv_users GROUP BY pageid, age;"
   ]
  },
  {
   "cell_type": "markdown",
   "metadata": {},
   "source": [
    "##  具体实现过程如图："
   ]
  },
  {
   "cell_type": "markdown",
   "metadata": {},
   "source": [
    "![title](img/GroupBy.png)"
   ]
  },
  {
   "cell_type": "code",
   "execution_count": null,
   "metadata": {
    "collapsed": true
   },
   "outputs": [],
   "source": [
    "实例：\n",
    "presto:default> select *from(\n",
    "             -> select one_department,\n",
    "             ->   two_department,\n",
    "             ->   three_department,\n",
    "             ->   four_department,\n",
    "             ->   five_department ,count(*) as num  from tmp_kn1_ehr_person_organization_20180817 where one_department is not Null group by one_department,\n",
    "             ->   two_department,\n",
    "             ->   three_department,\n",
    "             ->   four_department,\n",
    "             ->   five_department ) t2 where t2.num>1 limit 5;"
   ]
  },
  {
   "cell_type": "markdown",
   "metadata": {},
   "source": [
    "![title](img/GroupByeg1.png)"
   ]
  },
  {
   "cell_type": "markdown",
   "metadata": {
    "collapsed": true
   },
   "source": [
    "### Group By sum 计算"
   ]
  },
  {
   "cell_type": "code",
   "execution_count": null,
   "metadata": {
    "collapsed": true
   },
   "outputs": [],
   "source": [
    "表数据：\n",
    "    presto:default> select *from tab4 order by id1;\n",
    "     id1  | size | name \n",
    "    ------+------+------\n",
    "        1 |   10 | AAA  \n",
    "        2 |   20 | BBB  \n",
    "        3 |   30 | DDD  \n",
    "        3 |   30 | CCC  \n",
    "        4 |   40 | NULL \n",
    "        8 | NULL | HHH  \n",
    "       99 | NULL | TTT  \n",
    "     NULL | NULL | EEE  \n",
    "     NULL |   76 | HHH  \n",
    "    (9 rows)"
   ]
  },
  {
   "cell_type": "markdown",
   "metadata": {},
   "source": [
    "![title](img/GroupBysum1.png)"
   ]
  },
  {
   "cell_type": "raw",
   "metadata": {},
   "source": [
    "计算 size 的总数"
   ]
  },
  {
   "cell_type": "markdown",
   "metadata": {},
   "source": [
    "![title](img/GroupBysum2.png)"
   ]
  },
  {
   "cell_type": "markdown",
   "metadata": {},
   "source": [
    "![title](img/GroupBysum3.png)"
   ]
  },
  {
   "cell_type": "markdown",
   "metadata": {
    "collapsed": true
   },
   "source": [
    "## Group By 排列组合"
   ]
  },
  {
   "cell_type": "code",
   "execution_count": null,
   "metadata": {
    "collapsed": true
   },
   "outputs": [],
   "source": [
    "表语句 （查询tab4）：\n",
    "    presto:default> select id1,size,name from tab4 group by id1,size,name order by id1;\n",
    "     id1  | size | name \n",
    "    ------+------+------\n",
    "        1 |   10 | AAA  \n",
    "        2 |   20 | BBB  \n",
    "        3 |   30 | DDD  \n",
    "        3 |   30 | CCC  \n",
    "        4 |   40 | NULL \n",
    "        8 | NULL | HHH  \n",
    "       99 | NULL | TTT  \n",
    "     NULL | NULL | EEE  \n",
    "     NULL |   76 | HHH  \n",
    "    (9 rows)"
   ]
  },
  {
   "cell_type": "code",
   "execution_count": null,
   "metadata": {
    "collapsed": true
   },
   "outputs": [],
   "source": [
    "tab4 分组：\n",
    "    presto:default> select id1,size from tab4 group by id1,size order by id1;\n",
    "     id1  | size \n",
    "    ------+------\n",
    "        1 |   10 \n",
    "        2 |   20 \n",
    "        3 |   30 \n",
    "        4 |   40 \n",
    "        8 | NULL \n",
    "       99 | NULL \n",
    "     NULL | NULL \n",
    "     NULL |   76 \n",
    "    (8 rows)"
   ]
  },
  {
   "cell_type": "code",
   "execution_count": null,
   "metadata": {
    "collapsed": true
   },
   "outputs": [],
   "source": [
    "tab4 分组并 size列 赋值Null：\n",
    "    presto:default> select id1,'null' as size from tab4 group by id1,size order by id1;\n",
    "     id1  | size \n",
    "    ------+------\n",
    "        1 | null \n",
    "        2 | null \n",
    "        3 | null \n",
    "        4 | null \n",
    "        8 | null \n",
    "       99 | null \n",
    "     NULL | null \n",
    "     NULL | null \n",
    "    (8 rows)"
   ]
  },
  {
   "cell_type": "code",
   "execution_count": null,
   "metadata": {
    "collapsed": true
   },
   "outputs": [],
   "source": [
    "tab4 分组并 多出来一列 name 赋值Null： \n",
    "    presto:default> \n",
    "    presto:default> select id1,size,null as name from tab4 group by id1,size order by id1;\n",
    "     id1  | size | name \n",
    "    ------+------+------\n",
    "        1 |   10 | NULL \n",
    "        2 |   20 | NULL \n",
    "        3 |   30 | NULL \n",
    "        4 |   40 | NULL \n",
    "        8 | NULL | NULL \n",
    "       99 | NULL | NULL \n",
    "     NULL | NULL | NULL \n",
    "     NULL |   76 | NULL \n",
    "    (8 rows)"
   ]
  },
  {
   "cell_type": "code",
   "execution_count": null,
   "metadata": {
    "collapsed": true
   },
   "outputs": [],
   "source": [
    "tab4 分组并 多出来一列 size 赋值Null：\n",
    "presto:default> select id1,size,null as size from tab4 group by id1,size order by id1;\n",
    " id1  | size | size \n",
    "------+------+------\n",
    "    1 |   10 | NULL \n",
    "    2 |   20 | NULL \n",
    "    3 |   30 | NULL \n",
    "    4 |   40 | NULL \n",
    "    8 | NULL | NULL \n",
    "   99 | NULL | NULL \n",
    " NULL | NULL | NULL \n",
    " NULL |   76 | NULL \n",
    "(8 rows)"
   ]
  },
  {
   "cell_type": "code",
   "execution_count": null,
   "metadata": {
    "collapsed": true
   },
   "outputs": [],
   "source": [
    "tab4 分组并少一列 size ：\n",
    "presto:default> select id1 from tab4 group by id1,size order by id1;\n",
    " id1  \n",
    "------\n",
    "    1 \n",
    "    2 \n",
    "    3 \n",
    "    4 \n",
    "    8 \n",
    "   99 \n",
    " NULL \n",
    " NULL \n",
    "(8 rows)"
   ]
  },
  {
   "cell_type": "markdown",
   "metadata": {},
   "source": [
    "## 类型转化 decimal（）"
   ]
  },
  {
   "cell_type": "raw",
   "metadata": {},
   "source": [
    " create table tab5 as select res_pay_total,price_total,order_id,hotel_id,start_date from  tmp_ol_dtfet_selftour_resales_date_go limit 10 union all 1.0000000000000000000000009 as res_pay_total, 2.00000000000009 as price_total,3 as order_id,5 as hotel_id,566 as  start_date from dual;\n"
   ]
  },
  {
   "cell_type": "code",
   "execution_count": null,
   "metadata": {
    "collapsed": true
   },
   "outputs": [],
   "source": []
  },
  {
   "cell_type": "markdown",
   "metadata": {},
   "source": [
    "## Having"
   ]
  },
  {
   "cell_type": "code",
   "execution_count": null,
   "metadata": {
    "collapsed": true
   },
   "outputs": [],
   "source": []
  }
 ],
 "metadata": {
  "kernelspec": {
   "display_name": "Python 3",
   "language": "python",
   "name": "python3"
  },
  "language_info": {
   "codemirror_mode": {
    "name": "ipython",
    "version": 3
   },
   "file_extension": ".py",
   "mimetype": "text/x-python",
   "name": "python",
   "nbconvert_exporter": "python",
   "pygments_lexer": "ipython3",
   "version": "3.6.0"
  }
 },
 "nbformat": 4,
 "nbformat_minor": 2
}
