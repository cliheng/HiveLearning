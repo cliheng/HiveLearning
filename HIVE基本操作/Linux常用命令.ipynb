{
 "cells": [
  {
   "cell_type": "markdown",
   "metadata": {},
   "source": [
    "# linux日志文件说明"
   ]
  },
  {
   "cell_type": "markdown",
   "metadata": {},
   "source": [
    "* **/var/log/message 系统启动后的信息和错误日志，是Red Hat Linux中最常用的日志之一 **\n",
    "* **/var/log/secure 与安全相关的日志信息 **\n",
    "* **/var/log/maillog 与邮件相关的日志信息 **\n",
    "* **/var/log/cron 与定时任务相关的日志信息 **\n",
    "* **/var/log/spooler 与UUCP和news设备相关的日志信息 **\n",
    "* **/var/log/boot.log 守护进程启动和停止相关的日志消息 **\n",
    "* **/var/log/wtmp 该日志文件永久记录每个用户登录、注销及系统的启动、停机的事件**"
   ]
  },
  {
   "cell_type": "markdown",
   "metadata": {},
   "source": [
    "# 查看日志方式"
   ]
  },
  {
   "cell_type": "markdown",
   "metadata": {},
   "source": [
    "## tail(选项)(参数)\n"
   ]
  },
  {
   "cell_type": "raw",
   "metadata": {},
   "source": [
    "tail命令用于输入文件中的尾部内容。tail命令默认在屏幕上显示指定文件的末尾10行。如果给定的文件不止一个，则在显示的每个文件前面加一个文件名标题。如果没有指定文件或者文件名为“-”，则读取标准输入。"
   ]
  },
  {
   "cell_type": "markdown",
   "metadata": {},
   "source": [
    "**注意：如果表示字节或行数的N值之前有一个”+”号，则从文件开头的第N项开始显示，而不是显示文件的最后N项。N值后面可以有后缀：b表示512，k表示1024，m表示1 048576(1M)。**"
   ]
  },
  {
   "cell_type": "markdown",
   "metadata": {},
   "source": [
    "### 选项"
   ]
  },
  {
   "cell_type": "raw",
   "metadata": {},
   "source": [
    "   -f 循环读取\n",
    "   -q 不显示处理信息\n",
    "   -v 显示详细的处理信息\n",
    "   -c<数目> 显示的字节数\n",
    "   -n<行数> 显示行数\n",
    "   -q, --quiet, --silent 从不输出给出文件名的首部 \n",
    "   -s, --sleep-interval=S 与-f合用,表示在每次反复的间隔休眠S秒"
   ]
  },
  {
   "cell_type": "markdown",
   "metadata": {},
   "source": [
    "### 参数"
   ]
  },
  {
   "cell_type": "raw",
   "metadata": {},
   "source": [
    "文件列表：指定要显示尾部内容的文件列表。"
   ]
  },
  {
   "cell_type": "markdown",
   "metadata": {},
   "source": [
    "-   tail  -n  10   test.log   查询日志尾部最后10行的日志;\n",
    "-   tail  -n +10   test.log   查询10行之后的所有日志;\n",
    "-   tail  -fn 10   test.log   循环实时查看最后10行记录(最常用的)"
   ]
  },
  {
   "cell_type": "raw",
   "metadata": {},
   "source": [
    "   一般还会配合着grep用, 例如 :  tail -fn 1000 test.log | grep '关键字'\n",
    "   如果一次性查询的数据量太大,可以进行翻页查看,\n",
    "   例如:tail -n 4700  aa.log |more -1000 可以进行多屏显示(ctrl + f 或者 空格键可以快捷键)"
   ]
  },
  {
   "cell_type": "markdown",
   "metadata": {},
   "source": [
    "## head(选项)(参数)\n"
   ]
  },
  {
   "cell_type": "raw",
   "metadata": {},
   "source": [
    "head (head) 用来显示档案的开头至标准输出中。如果指定了多于一个文件，在每一段输出前会给出文件名作为文件头。如果不指定文件，或者文件为\"-\"，则从标准输入读取数据。"
   ]
  },
  {
   "cell_type": "markdown",
   "metadata": {},
   "source": [
    "### 选项"
   ]
  },
  {
   "cell_type": "raw",
   "metadata": {},
   "source": [
    "    -c,  --bytes=[-]K       显示每个文件的前K 字节内容；如果附加\"-\"参数，则除了每个文件的最后K字节数据外 显示剩余全部内容\n",
    "    -n,  --lines=[-]K       显示每个文件的前K 行内容；如果附加\"-\"参数，则除了每个文件的最后K行外 显示剩余全部内容\n",
    "    -q,  --quiet, --silent    不显示包含给定文件名的文件头\n",
    "    -v,  --verbose         总是显示包含给定文件名的文件头\n",
    "       --help           显示此帮助信息并退出\n",
    "       --version         显示版本信息并退出"
   ]
  },
  {
   "cell_type": "markdown",
   "metadata": {},
   "source": [
    "### 参数"
   ]
  },
  {
   "cell_type": "raw",
   "metadata": {},
   "source": [
    "文件列表：指定显示头部内容的文件列表。"
   ]
  },
  {
   "cell_type": "markdown",
   "metadata": {},
   "source": [
    "- head -n  10  test.log   //查询日志文件中的头10行日志;\n",
    "- head -n -10  test.log   //查询日志文件除了最后10行的其他所有日志;"
   ]
  },
  {
   "cell_type": "markdown",
   "metadata": {},
   "source": [
    "# Cat(选项)(参数)"
   ]
  },
  {
   "cell_type": "raw",
   "metadata": {},
   "source": [
    "cat命令连接文件并打印到标准输出设备上，cat经常用来显示文件的内容，类似于下的type命令。"
   ]
  },
  {
   "cell_type": "markdown",
   "metadata": {},
   "source": [
    "** 注意：当文件较大时，文本在屏幕上迅速闪过（滚屏），用户往往看不清所显示的内容。因此，一般用more等命令分屏显示。为了控制滚屏，可以按Ctrl+S键，停止滚屏；按Ctrl+Q键可以恢复滚屏。按Ctrl+C（中断）键可以终止该命令的执行，并且返回Shell提示符状态。**"
   ]
  },
  {
   "cell_type": "markdown",
   "metadata": {},
   "source": [
    "### 选项"
   ]
  },
  {
   "cell_type": "raw",
   "metadata": {},
   "source": [
    "    -n或-number：有1开始对所有输出的行数编号；\n",
    "    -b或--number-nonblank：和-n相似，只不过对于空白行不编号；\n",
    "    -s或--squeeze-blank：当遇到有连续两行以上的空白行，就代换为一行的空白行；\n",
    "    -A：显示不可打印字符，行尾显示“$”；\n",
    "    -e：等价于\"-vE\"选项；\n",
    "    -t：等价于\"-vT\"选项；"
   ]
  },
  {
   "cell_type": "markdown",
   "metadata": {},
   "source": [
    "### 参数"
   ]
  },
  {
   "cell_type": "raw",
   "metadata": {},
   "source": [
    "文件列表：指定要连接的文件列表。"
   ]
  },
  {
   "cell_type": "markdown",
   "metadata": {},
   "source": [
    "- cat m1 （在屏幕上显示文件ml的内容）\n",
    "- cat m1 m2 （同时显示文件ml和m2的内容）\n",
    "- cat m1 m2 > file （将文件ml和m2合并后放入文件file中.只能创建新文件,不能编辑已有文件.）\n",
    "- cat > filename   (从键盘创建一个文件 )\n",
    "- cat -n textfile1 > textfile2 (将一个日志文件的内容追加到另外一个)\n",
    "- cat : >textfile2  (清空一个日志文件)"
   ]
  },
  {
   "cell_type": "markdown",
   "metadata": {},
   "source": [
    "** 注意：>意思是创建，>>是追加。千万不要弄混了。**"
   ]
  },
  {
   "cell_type": "markdown",
   "metadata": {},
   "source": [
    "# tac(选项)(参数)"
   ]
  },
  {
   "cell_type": "raw",
   "metadata": {},
   "source": [
    "将文件以行为单位的反序输出，即第一行最后显示，最后一行先显示。"
   ]
  },
  {
   "cell_type": "markdown",
   "metadata": {},
   "source": [
    "## 选项"
   ]
  },
  {
   "cell_type": "raw",
   "metadata": {},
   "source": [
    "    -a或——append：将内容追加到文件的末尾；\n",
    "    -i或——ignore-interrupts：忽略中断信号。"
   ]
  },
  {
   "cell_type": "markdown",
   "metadata": {},
   "source": [
    "## 参数"
   ]
  },
  {
   "cell_type": "raw",
   "metadata": {},
   "source": [
    "文件列表：指定要保存内容的文件列表。"
   ]
  },
  {
   "cell_type": "code",
   "execution_count": null,
   "metadata": {
    "collapsed": true
   },
   "outputs": [],
   "source": [
    "这个命令可以查找日志文件特定的一段 , 也可以根据时间的一个范围查询"
   ]
  },
  {
   "cell_type": "raw",
   "metadata": {},
   "source": [
    "//按照行号\n",
    "  sed -n '5,10p' filename //这样你就可以只查看文件的第5行到第10行。\n",
    "  //按照时间段\n",
    "  sed -n '/2014-12-17 16:17:20/,/2014-12-17 16:17:36/p'  test.log"
   ]
  },
  {
   "cell_type": "markdown",
   "metadata": {},
   "source": [
    "# less(选项)(参数)"
   ]
  },
  {
   "cell_type": "raw",
   "metadata": {},
   "source": [
    "less命令的作用与more十分相似，都可以用来浏览文字档案的内容，不同的是less命令允许用户向前或向后浏览文件，而more命令只能向前浏览。用less命令显示文件时，用PageUp键向上翻页，用PageDown键向下翻页。要退出less程序，应按Q键。"
   ]
  },
  {
   "cell_type": "markdown",
   "metadata": {
    "collapsed": true
   },
   "source": [
    "##  选项"
   ]
  },
  {
   "cell_type": "raw",
   "metadata": {},
   "source": [
    "    -e：文件内容显示完毕后，自动退出；\n",
    "    -f：强制显示文件；\n",
    "    -g：不加亮显示搜索到的所有关键词，仅显示当前显示的关键字，以提高显示速度；\n",
    "    -l：搜索时忽略大小写的差异；\n",
    "    -N：每一行行首显示行号；\n",
    "    -s：将连续多个空行压缩成一行显示；\n",
    "    -S：在单行显示较长的内容，而不换行显示；\n",
    "    -x<数字>：将TAB字符显示为指定个数的空格字符。"
   ]
  },
  {
   "cell_type": "markdown",
   "metadata": {},
   "source": [
    "## 参数"
   ]
  },
  {
   "cell_type": "raw",
   "metadata": {},
   "source": [
    "文件：指定要分屏显示内容的文件。"
   ]
  },
  {
   "cell_type": "markdown",
   "metadata": {},
   "source": [
    "# more(语法)(参数)"
   ]
  },
  {
   "cell_type": "raw",
   "metadata": {},
   "source": [
    "more命令是一个基于vi编辑器文本过滤器，它以全屏幕的方式按页显示文本文件的内容，支持vi中的关键字定位操作。more名单中内置了若干快捷键，常用的有H（获得帮助信息），Enter（向下翻滚一行），空格（向下滚动一屏），Q（退出命令）。\n",
    "\n",
    "该命令一次显示一屏文本，满屏后停下来，并且在屏幕的底部出现一个提示信息，给出至今己显示的该文件的百分比：--More--（XX%）可以用下列不同的方法对提示做出回答："
   ]
  },
  {
   "cell_type": "markdown",
   "metadata": {},
   "source": [
    "- 按Space键：显示文本的下一屏内容。\n",
    "- 按Enier键：只显示文本的下一行内容。\n",
    "- 按斜线符|：接着输入一个模式，可以在文本中寻找下一个相匹配的模式。\n",
    "- 按H键：显示帮助屏，该屏上有相关的帮助信息。\n",
    "- 按B键：显示上一屏内容。\n",
    "- 按Q键：退出rnore命令。"
   ]
  },
  {
   "cell_type": "markdown",
   "metadata": {},
   "source": [
    "## 参数"
   ]
  },
  {
   "cell_type": "raw",
   "metadata": {},
   "source": [
    "文件：指定分页显示内容的文件。"
   ]
  },
  {
   "cell_type": "markdown",
   "metadata": {},
   "source": [
    "## 实例"
   ]
  },
  {
   "cell_type": "markdown",
   "metadata": {},
   "source": [
    "显示文件file的内容，但在显示之前先清屏，并且在屏幕的最下方显示完核的百分比。"
   ]
  },
  {
   "cell_type": "raw",
   "metadata": {},
   "source": [
    "more -dc file"
   ]
  },
  {
   "cell_type": "markdown",
   "metadata": {},
   "source": [
    "显示文件file的内容，每10行显示一次，而且在显示之前先清屏。"
   ]
  },
  {
   "cell_type": "raw",
   "metadata": {
    "collapsed": true
   },
   "source": [
    "more -c -10 file"
   ]
  },
  {
   "cell_type": "markdown",
   "metadata": {},
   "source": [
    "# history"
   ]
  },
  {
   "cell_type": "markdown",
   "metadata": {},
   "source": [
    "- history // 所有的历史记录\n",
    "\n",
    "- history | grep XXX  // 历史记录中包含某些指令的记录\n",
    "\n",
    "- history | more // 分页查看记录\n",
    "\n",
    "- history -c // 清空所有的历史记录\n",
    "\n",
    "- !! 重复执行上一个命令\n",
    "\n",
    "- 查询出来记录后选中 :　!323"
   ]
  },
  {
   "cell_type": "markdown",
   "metadata": {
    "collapsed": true
   },
   "source": [
    "# mv(选项)(参数)"
   ]
  },
  {
   "cell_type": "raw",
   "metadata": {},
   "source": [
    "mv命令用来对文件或目录重新命名，或者将文件从一个目录移到另一个目录中。source表示源文件或目录，target表示目标文件或目录。如果将一个文件移到一个已经存在的目标文件中，则目标文件的内容将被覆盖。"
   ]
  },
  {
   "cell_type": "markdown",
   "metadata": {},
   "source": [
    "** mv命令可以用来将源文件移至一个目标文件中，或将一组文件移至一个目标目录中。源文件被移至目标文件有两种不同的结果：**\n",
    "- 如果目标文件是到某一目录文件的路径，源文件会被移到此目录下，且文件名不变。\n",
    "- 如果目标文件不是目录文件，则源文件名（只能有一个）会变为此目标文件名，并覆盖己存在的同名文件。如果源文件和目标文件在同一个目录下，mv的作用就是改文件名。当目标文件是目录文件时，源文件或目录参数可以有多个，则所有的源文件都会被移至目标文件中。所有移到该目录下的文件都将保留以前的文件名。"
   ]
  },
  {
   "cell_type": "markdown",
   "metadata": {},
   "source": [
    "** 注意事项：mv与cp的结果不同，mv好像文件“搬家”，文件个数并未增加。而cp对文件进行复制，文件个数增加了。**"
   ]
  },
  {
   "cell_type": "markdown",
   "metadata": {},
   "source": [
    "## 选项"
   ]
  },
  {
   "cell_type": "raw",
   "metadata": {},
   "source": [
    "    --backup=<备份模式>：若需覆盖文件，则覆盖前先行备份；\n",
    "    -b：当文件存在时，覆盖前，为其创建一个备份；\n",
    "    -f：若目标文件或目录与现有的文件或目录重复，则直接覆盖现有的文件或目录；\n",
    "    -i：交互式操作，覆盖前先行询问用户，如果源文件与目标文件或目标目录中的文件同名，则询问用户是否覆盖目标文件。用户输入”y”，表示将覆盖目标  \n",
    "       文件；输入”n”，表示取消对源文件的移动。这样可以避免误将文件覆盖。\n",
    "    --strip-trailing-slashes：删除源文件中的斜杠“/”；\n",
    "    -S<后缀>：为备份文件指定后缀，而不使用默认的后缀；\n",
    "    --target-directory=<目录>：指定源文件要移动到目标目录；\n",
    "    -u：当源文件比目标文件新或者目标文件不存在时，才执行移动操作。"
   ]
  },
  {
   "cell_type": "markdown",
   "metadata": {},
   "source": [
    "## 参数"
   ]
  },
  {
   "cell_type": "raw",
   "metadata": {},
   "source": [
    "源文件：源文件列表。\n",
    "目标文件：如果“目标文件”是文件名则在移动文件的同时，将其改名为“目标文件”；如果“目标文件”是目录名则将源文件移动到“目标文件”下。"
   ]
  },
  {
   "cell_type": "markdown",
   "metadata": {},
   "source": [
    "## 实例"
   ]
  },
  {
   "cell_type": "markdown",
   "metadata": {},
   "source": [
    "将文件ex3改名为new1"
   ]
  },
  {
   "cell_type": "raw",
   "metadata": {},
   "source": [
    "mv ex3 new1"
   ]
  },
  {
   "cell_type": "markdown",
   "metadata": {},
   "source": [
    "将目录`/usr/men` 中的所有文件移到当前目录（用 `.` 表示）中："
   ]
  },
  {
   "cell_type": "raw",
   "metadata": {},
   "source": [
    "mv /usr/men/* ."
   ]
  },
  {
   "cell_type": "markdown",
   "metadata": {},
   "source": [
    "# tar (选项)(参数)"
   ]
  },
  {
   "cell_type": "raw",
   "metadata": {},
   "source": [
    "tar命令可以为linux的文件和目录创建档案。利用tar，可以为某一特定文件创建档案（备份文件），也可以在档案中改变文件，或者向档案中加入新的文件。tar最初被用来在磁带上创建档案，现在，用户可以在任何设备上创建档案。利用tar命令，可以把一大堆的文件和目录全部打包成一个文件，这对于备份文件或将几个文件组合成为一个文件以便于网络传输是非常有用的。"
   ]
  },
  {
   "cell_type": "markdown",
   "metadata": {},
   "source": [
    "**首先要弄清两个概念：打包和压缩。打包是指将一大堆文件或目录变成一个总的文件；压缩则是将一个大的文件通过一些压缩算法变成一个小文件**"
   ]
  },
  {
   "cell_type": "markdown",
   "metadata": {},
   "source": [
    "### 为什么要区分这两个概念呢？"
   ]
  },
  {
   "cell_type": "markdown",
   "metadata": {},
   "source": [
    "这源于Linux中很多压缩程序只能针对一个文件进行压缩，这样当你想要压缩一大堆文件时，你得先将这一大堆文件先打成一个包（tar命令），然后再用压缩程序进行压缩（gzip bzip2命令）。"
   ]
  },
  {
   "cell_type": "raw",
   "metadata": {},
   "source": [
    "    -A或--catenate：新增文件到以存在的备份文件；\n",
    "    -B：设置区块大小；\n",
    "    -c或--create：建立新的备份文件；\n",
    "    -C <目录>：这个选项用在解压缩，若要在特定目录解压缩，可以使用这个选项。\n",
    "    -d：记录文件的差别；\n",
    "    -x或--extract或--get：从备份文件中还原文件；\n",
    "    -t或--list：列出备份文件的内容；\n",
    "    -z或--gzip或--ungzip：通过gzip指令处理备份文件；\n",
    "    -Z或--compress或--uncompress：通过compress指令处理备份文件；\n",
    "    -f<备份文件>或--file=<备份文件>：指定备份文件；\n",
    "    -v或--verbose：显示指令执行过程；\n",
    "    -r：添加文件到已经压缩的文件；\n",
    "    -u：添加改变了和现有的文件到已经存在的压缩文件；\n",
    "    -j：支持bzip2解压文件；\n",
    "    -v：显示操作过程；\n",
    "    -l：文件系统边界设置；\n",
    "    -k：保留原有文件不覆盖；\n",
    "    -m：保留文件不被覆盖；\n",
    "    -w：确认压缩文件的正确性；\n",
    "    -p或--same-permissions：用原来的文件权限还原文件；\n",
    "    -P或--absolute-names：文件名使用绝对名称，不移除文件名称前的“/”号；\n",
    "    -N <日期格式> 或 --newer=<日期时间>：只将较指定日期更新的文件保存到备份文件里；\n",
    "    --exclude=<范本样式>：排除符合范本样式的文件。"
   ]
  },
  {
   "cell_type": "markdown",
   "metadata": {},
   "source": [
    "## 参数"
   ]
  },
  {
   "cell_type": "raw",
   "metadata": {},
   "source": [
    "文件或目录：指定要打包的文件或目录列表。"
   ]
  },
  {
   "cell_type": "markdown",
   "metadata": {},
   "source": [
    "## 实例"
   ]
  },
  {
   "cell_type": "raw",
   "metadata": {},
   "source": [
    "将文件全部打包成tar包："
   ]
  },
  {
   "cell_type": "markdown",
   "metadata": {},
   "source": [
    "- tar -cvf log.tar log2012.log    仅打包，不压缩！ \n",
    "- tar -zcvf log.tar.gz log2012.log   打包后，以 gzip 压缩 \n",
    "- tar -jcvf log.tar.bz2 log2012.log  打包后，以 bzip2 压缩 "
   ]
  },
  {
   "cell_type": "markdown",
   "metadata": {},
   "source": [
    "** 在选项f之后的文件档名是自己取的，我们习惯上都用 .tar 来作为辨识。 如果加z选项，则以.tar.gz或.tgz来代表gzip压缩过的tar包；如果加j选项，则以.tar.bz2来作为tar包名**"
   ]
  },
  {
   "cell_type": "raw",
   "metadata": {},
   "source": [
    "查阅上述tar包内有哪些文件："
   ]
  },
  {
   "cell_type": "markdown",
   "metadata": {},
   "source": [
    "tar -ztvf log.tar.gz"
   ]
  },
  {
   "cell_type": "markdown",
   "metadata": {},
   "source": [
    "** 由于我们使用 gzip 压缩的log.tar.gz，所以要查阅log.tar.gz包内的文件时，就得要加上z这个选项了。**"
   ]
  },
  {
   "cell_type": "raw",
   "metadata": {},
   "source": [
    "将tar包解压缩："
   ]
  },
  {
   "cell_type": "markdown",
   "metadata": {},
   "source": [
    "tar -zxvf /opt/soft/test/log.tar.gz"
   ]
  },
  {
   "cell_type": "markdown",
   "metadata": {},
   "source": [
    "** 在预设的情况下，我们可以将压缩档在任何地方解开的 **"
   ]
  },
  {
   "cell_type": "raw",
   "metadata": {},
   "source": [
    "只将tar内的部分文件解压出来："
   ]
  },
  {
   "cell_type": "markdown",
   "metadata": {},
   "source": [
    "tar -zxvf /opt/soft/test/log30.tar.gz log2013.log"
   ]
  },
  {
   "cell_type": "markdown",
   "metadata": {},
   "source": [
    "** 我可以透过tar -ztvf来查阅 tar 包内的文件名称，如果单只要一个文件，就可以透过这个方式来解压部分文件！**"
   ]
  },
  {
   "cell_type": "raw",
   "metadata": {},
   "source": [
    "文件备份下来，并且保存其权限："
   ]
  },
  {
   "cell_type": "markdown",
   "metadata": {},
   "source": [
    "tar -zcvpf log31.tar.gz log2014.log log2015.log log2016.log"
   ]
  },
  {
   "cell_type": "markdown",
   "metadata": {},
   "source": [
    "**这个-p的属性是很重要的，尤其是当您要保留原本文件的属性时。**"
   ]
  },
  {
   "cell_type": "raw",
   "metadata": {},
   "source": [
    "在文件夹当中，比某个日期新的文件才备份："
   ]
  },
  {
   "cell_type": "markdown",
   "metadata": {},
   "source": [
    "tar -N \"2012/11/13\" -zcvf log17.tar.gz test"
   ]
  },
  {
   "cell_type": "raw",
   "metadata": {},
   "source": [
    "备份文件夹内容是排除部分文件："
   ]
  },
  {
   "cell_type": "markdown",
   "metadata": {},
   "source": [
    "tar --exclude scf/service -zcvf scf.tar.gz scf/*"
   ]
  },
  {
   "cell_type": "raw",
   "metadata": {},
   "source": [
    "其实最简单的使用 tar 就只要记忆底下的方式即可："
   ]
  },
  {
   "cell_type": "markdown",
   "metadata": {},
   "source": [
    "- 压　缩：tar -jcv -f filename.tar.bz2 要被压缩的文件或目录名称\n",
    "- 查　询：tar -jtv -f filename.tar.bz2\n",
    "- 解压缩：tar -jxv -f filename.tar.bz2 -C 欲解压缩的目录"
   ]
  },
  {
   "cell_type": "code",
   "execution_count": null,
   "metadata": {
    "collapsed": true
   },
   "outputs": [],
   "source": []
  }
 ],
 "metadata": {
  "kernelspec": {
   "display_name": "Python 3",
   "language": "python",
   "name": "python3"
  },
  "language_info": {
   "codemirror_mode": {
    "name": "ipython",
    "version": 3
   },
   "file_extension": ".py",
   "mimetype": "text/x-python",
   "name": "python",
   "nbconvert_exporter": "python",
   "pygments_lexer": "ipython3",
   "version": "3.6.0"
  }
 },
 "nbformat": 4,
 "nbformat_minor": 2
}
