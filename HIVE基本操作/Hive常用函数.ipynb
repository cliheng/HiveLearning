{
 "cells": [
  {
   "cell_type": "markdown",
   "metadata": {},
   "source": [
    "## IF函数：if"
   ]
  },
  {
   "cell_type": "raw",
   "metadata": {},
   "source": [
    "语法: if(testCondition,valuTrue,valueFalseOrNull)"
   ]
  },
  {
   "cell_type": "raw",
   "metadata": {},
   "source": [
    "说明:当条件 testCondition 为True时，返回valueTrue, 否则返回valueFalseOrNull"
   ]
  },
  {
   "cell_type": "markdown",
   "metadata": {},
   "source": [
    "![title](img/if.png)"
   ]
  },
  {
   "cell_type": "markdown",
   "metadata": {},
   "source": [
    "## 条件判断函数：CASE"
   ]
  },
  {
   "cell_type": "raw",
   "metadata": {},
   "source": [
    "语法： Case A when b THEN c [WHEN d THEN e] * [ELSE f] END"
   ]
  },
  {
   "cell_type": "raw",
   "metadata": {},
   "source": [
    "说明：如果a 等于 b，那么返回c,如果a等于d，那么返回e，否则返回f"
   ]
  },
  {
   "cell_type": "code",
   "execution_count": null,
   "metadata": {
    "collapsed": true
   },
   "outputs": [],
   "source": [
    "eg：\n",
    " -- 销售类型增加一级部门的prt_distribution_flag_name：直销为 -1，分销为-2\n",
    "select\n",
    "case t1.prt_distribution_flag_name When '直销' then '-1' when '分销' then '-2' else '未知' end as parent_dept_id,\n",
    "t2.distribution_flag_key as dept_id,\n",
    "t1.*\n",
    "from\n",
    "(select\n",
    "     distinct \n",
    "     lvl,\n",
    "     full_name,     \n",
    "     prt_distribution_flag_name,\n",
    "     distribution_flag_name\n",
    "from dw.ol_power_distribution_type_dim \n",
    "where lvl =2 and dt ='20180813') t1 \n",
    "left join \n",
    "dw.kn1_dim_distribution t2 on t1.distribution_flag_name =t2.distribution_flag_name \n",
    "and t1.prt_distribution_flag_name = t2.prt_distribution_flag_name"
   ]
  },
  {
   "cell_type": "markdown",
   "metadata": {},
   "source": [
    "踩坑：Query 20180815_101245_23113_5iy2v failed: line 2:77: All CASE results must be the same type: bigint\n",
    "类型要一直"
   ]
  },
  {
   "cell_type": "markdown",
   "metadata": {},
   "source": [
    "![title](img/casewhen.png)"
   ]
  },
  {
   "cell_type": "markdown",
   "metadata": {
    "collapsed": true
   },
   "source": [
    "## NVL"
   ]
  },
  {
   "cell_type": "raw",
   "metadata": {},
   "source": [
    "语法：nvl（value，default_value）"
   ]
  },
  {
   "cell_type": "raw",
   "metadata": {},
   "source": [
    "说明：如果value是null，返回default_value）"
   ]
  },
  {
   "cell_type": "markdown",
   "metadata": {},
   "source": [
    "## 去空格函数：trim，ltrim,rtrim"
   ]
  },
  {
   "cell_type": "raw",
   "metadata": {},
   "source": [
    "语法：\n",
    "trim(A)：去除字符串两边的空格\n",
    "ltrim(A):去除字符串左边的空格\n",
    "rtrim(A):去除字符串右边的空格"
   ]
  },
  {
   "cell_type": "markdown",
   "metadata": {},
   "source": [
    "![title](img/trim.png)"
   ]
  },
  {
   "cell_type": "markdown",
   "metadata": {},
   "source": [
    "## 正则表达式替换函数：regexp_replace"
   ]
  },
  {
   "cell_type": "raw",
   "metadata": {},
   "source": [
    "语法：regexp_replace（A,B,C）"
   ]
  },
  {
   "cell_type": "raw",
   "metadata": {},
   "source": [
    "说明：将字符串A中的符合java正则表达式B的部分替换成C。\n",
    "注意：在有些情况下要使用转义字符，类似oracle中的regexp_replace函数"
   ]
  },
  {
   "cell_type": "markdown",
   "metadata": {},
   "source": [
    "![title](img/regexp_replace.png)"
   ]
  },
  {
   "cell_type": "markdown",
   "metadata": {},
   "source": [
    "## 字符串连接函数：concat"
   ]
  },
  {
   "cell_type": "raw",
   "metadata": {},
   "source": [
    "语法：concat（str1,str2,str3,...strN）"
   ]
  },
  {
   "cell_type": "raw",
   "metadata": {},
   "source": [
    "说明：返回输入字符串连接后的结果，支持任意个输入字符串。"
   ]
  },
  {
   "cell_type": "markdown",
   "metadata": {
    "collapsed": true
   },
   "source": [
    "## 日期时间转日期函数： to_date"
   ]
  },
  {
   "cell_type": "raw",
   "metadata": {},
   "source": [
    "语法：to_date(expr)\n",
    "说明:返回日期时间段内的日期部分。`"
   ]
  },
  {
   "cell_type": "markdown",
   "metadata": {},
   "source": [
    "![title](img/to_date.png)"
   ]
  },
  {
   "cell_type": "markdown",
   "metadata": {
    "collapsed": true
   },
   "source": [
    "## 左补足函数：lpad"
   ]
  },
  {
   "cell_type": "raw",
   "metadata": {},
   "source": [
    "语法：lpad(str,len,pad)\n",
    "说明:将str用pad进行左补足到len位"
   ]
  },
  {
   "cell_type": "markdown",
   "metadata": {},
   "source": [
    "![title](img/lpad.png)"
   ]
  },
  {
   "cell_type": "markdown",
   "metadata": {},
   "source": [
    "## 右补足函数： rpad"
   ]
  },
  {
   "cell_type": "raw",
   "metadata": {},
   "source": [
    "语法：rpad(str,len,pad)\n",
    "说明:将str用pad进行右补足到len位"
   ]
  },
  {
   "cell_type": "markdown",
   "metadata": {},
   "source": [
    "![title](img/rpad.png)"
   ]
  },
  {
   "cell_type": "markdown",
   "metadata": {
    "collapsed": true
   },
   "source": [
    "## 排序函数：row_number() Over()"
   ]
  },
  {
   "cell_type": "raw",
   "metadata": {},
   "source": [
    "语法：row_number() over (partition by xxx order by xxx) rank （其中rank为分组的别名，你也可以换个名字比方说换成hahahah）\n",
    "说明：从 1开始，按照顺序 生成分组内记录的开始。"
   ]
  },
  {
   "cell_type": "markdown",
   "metadata": {},
   "source": [
    "### 使用事例"
   ]
  },
  {
   "cell_type": "markdown",
   "metadata": {},
   "source": [
    "**数据提取目标**：从tmp_test表中根据col1字段去重，选取clo2最大的那条记录，导入tmp_test_c表。"
   ]
  },
  {
   "cell_type": "code",
   "execution_count": null,
   "metadata": {
    "collapsed": true
   },
   "outputs": [],
   "source": [
    "创建数据表：\n",
    "    create table tmp_test(col1 string,clo2 string);"
   ]
  },
  {
   "cell_type": "code",
   "execution_count": null,
   "metadata": {
    "collapsed": true
   },
   "outputs": [],
   "source": [
    "添加测试数据：\n",
    "    insert into table tmp_test\n",
    "    select 1,'str1' from dual\n",
    "    union all\n",
    "    select 2,'str2' from dual\n",
    "    union all\n",
    "    select 3,'str3' from dual\n",
    "    union all\n",
    "    select 3,'str31' from dual\n",
    "    union all\n",
    "    select 3,'str33' from dual\n",
    "    union all\n",
    "    select 4,'str41' from dual\n",
    "    union all\n",
    "    select 4,'str42' from dual;"
   ]
  },
  {
   "cell_type": "markdown",
   "metadata": {},
   "source": [
    "查看数据："
   ]
  },
  {
   "cell_type": "markdown",
   "metadata": {},
   "source": [
    "![title](img/row_number1.png)"
   ]
  },
  {
   "cell_type": "markdown",
   "metadata": {},
   "source": [
    "使用row_number（）函数查询数据："
   ]
  },
  {
   "cell_type": "code",
   "execution_count": null,
   "metadata": {
    "collapsed": true
   },
   "outputs": [],
   "source": [
    "hive (default)> select t.*,row_number() over(partition by col1,clo2 sort by clo2 desc) rn\n",
    "              > from tmp_test t;"
   ]
  },
  {
   "cell_type": "markdown",
   "metadata": {},
   "source": [
    "![title](img/row_number2.png)"
   ]
  },
  {
   "cell_type": "markdown",
   "metadata": {},
   "source": [
    "按照数据提取目标提取数据："
   ]
  },
  {
   "cell_type": "code",
   "execution_count": null,
   "metadata": {
    "collapsed": true
   },
   "outputs": [],
   "source": [
    "hive (default)> select *\n",
    "              > from\n",
    "              > (\n",
    "              > select t.*,row_number() over(distribute by col1 sort by clo2 desc) rn\n",
    "              > from tmp_test t\n",
    "              > )tt\n",
    "              > where tt.rn=1;"
   ]
  },
  {
   "cell_type": "markdown",
   "metadata": {},
   "source": [
    "![title](img/row_number3.png)"
   ]
  },
  {
   "cell_type": "markdown",
   "metadata": {},
   "source": [
    "## 获取当前UNIX时间戳函数：unix_timestamp"
   ]
  },
  {
   "cell_type": "raw",
   "metadata": {},
   "source": [
    "语法：unix_timestamp()"
   ]
  },
  {
   "cell_type": "raw",
   "metadata": {},
   "source": [
    "说明：获取当前时区的UNIX时间戳"
   ]
  },
  {
   "cell_type": "markdown",
   "metadata": {},
   "source": [
    "![title](img/unix_timestamp.png)"
   ]
  },
  {
   "cell_type": "markdown",
   "metadata": {
    "collapsed": true
   },
   "source": [
    "## Unix时间戳转日期函数：from_unixtime()"
   ]
  },
  {
   "cell_type": "raw",
   "metadata": {},
   "source": [
    "语法：from_unixtime(bigint unixtime[,string format])`"
   ]
  },
  {
   "cell_type": "raw",
   "metadata": {},
   "source": [
    "说明：转化UNIX时间戳（从1970-01-01 00:00:00 UTC到指定时间的秒数）到当前时区的时间格式。"
   ]
  },
  {
   "cell_type": "markdown",
   "metadata": {},
   "source": [
    "![title](img/from_unixtime.png)"
   ]
  },
  {
   "cell_type": "markdown",
   "metadata": {
    "collapsed": true
   },
   "source": [
    "## 带分隔符字符串连接函数：concat_ws"
   ]
  },
  {
   "cell_type": "raw",
   "metadata": {},
   "source": [
    "语法：concat_ws（SEP,A,B...）"
   ]
  },
  {
   "cell_type": "raw",
   "metadata": {},
   "source": [
    "说明：返回输入字符串连接后的结果，SEP表示各个字符串间的分隔符。"
   ]
  },
  {
   "cell_type": "markdown",
   "metadata": {},
   "source": [
    "![title](img/concat_ws.png)"
   ]
  },
  {
   "cell_type": "code",
   "execution_count": null,
   "metadata": {
    "collapsed": true
   },
   "outputs": [],
   "source": []
  }
 ],
 "metadata": {
  "kernelspec": {
   "display_name": "Python 3",
   "language": "python",
   "name": "python3"
  },
  "language_info": {
   "codemirror_mode": {
    "name": "ipython",
    "version": 3
   },
   "file_extension": ".py",
   "mimetype": "text/x-python",
   "name": "python",
   "nbconvert_exporter": "python",
   "pygments_lexer": "ipython3",
   "version": "3.6.0"
  }
 },
 "nbformat": 4,
 "nbformat_minor": 2
}
