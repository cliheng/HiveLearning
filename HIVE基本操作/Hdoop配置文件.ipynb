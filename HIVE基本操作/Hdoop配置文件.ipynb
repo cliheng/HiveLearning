{
 "cells": [
  {
   "cell_type": "markdown",
   "metadata": {},
   "source": [
    "# 作业配置"
   ]
  },
  {
   "cell_type": "markdown",
   "metadata": {},
   "source": [
    "|mapred.job.name|作业名|\n",
    "|--|--|\n",
    "| mapred.job.priority | 作业优先级 |\n",
    "|mapred.job.map.capacity|最多同时运行map任务数|\n",
    "|mapred.job.reduce.capacity|最多同时运行reduce任务数|\n",
    "|hadoop.job.ugi|作业执行权限|\n",
    "|mapred.map.tasks|map任务个数|\n",
    "|mapred.reduce.tasks|reduce任务个数|\n",
    "|mapred.job.groups|作业可运行的计算节点分组|\n",
    "|mapred.task.timeout|任务没有响应（输入输出）的最大时间|\n",
    "|mapred.compress.map.output|map的输出是否压缩|\n",
    "|mapred.map.output.compression.codec|map的输出压缩方式|\n",
    "|stream.map.output.field.separator|map输出分隔符|"
   ]
  },
  {
   "cell_type": "markdown",
   "metadata": {},
   "source": [
    "## 工作中配置文件解析"
   ]
  },
  {
   "cell_type": "markdown",
   "metadata": {},
   "source": [
    "![title](img/peizhiwenjian.png)"
   ]
  },
  {
   "cell_type": "markdown",
   "metadata": {},
   "source": [
    "### 语法: set hive.auto.convert.join=false;"
   ]
  },
  {
   "cell_type": "raw",
   "metadata": {},
   "source": [
    "在map端产生join: 这样设置，hive就会自动的识别比较小的表，继而用mapJoin来实现两个表的联合。"
   ]
  },
  {
   "cell_type": "markdown",
   "metadata": {},
   "source": [
    "### 语法:hive.mapred.mode=nonstrict"
   ]
  },
  {
   "cell_type": "raw",
   "metadata": {},
   "source": [
    "Hive配置中有个参数hive.mapred.mode，分为nonstrict，strict，默认是nonstrict;\n",
    "如果设置为strict，会对三种情况的语句在compile环节做过滤："
   ]
  },
  {
   "cell_type": "markdown",
   "metadata": {},
   "source": [
    "* 笛卡尔积Join。这种情况由于没有指定reduce join key，所以只会启用一个reducer，数据量大时会造成性能瓶颈"
   ]
  },
  {
   "cell_type": "markdown",
   "metadata": {},
   "source": [
    "* order by后面不跟limit。order by会强制将reduce number设置成1，不加limit，会将所有数据sink到reduce端来做全排序。"
   ]
  },
  {
   "cell_type": "markdown",
   "metadata": {},
   "source": [
    "* 读取的表是partitioned table，但没有指定partition predicate。\n",
    "注：如果是多级分区表的话，只要出现任何一个就放行"
   ]
  },
  {
   "cell_type": "raw",
   "metadata": {},
   "source": [
    "这三种情况在数据量比较大的情况下都会造成生成低效的MR Job，影响执行时间和效率"
   ]
  },
  {
   "cell_type": "markdown",
   "metadata": {},
   "source": [
    "### 语法:set hive.execution.engine=mr"
   ]
  },
  {
   "cell_type": "raw",
   "metadata": {},
   "source": [
    "设置计算计算引擎为mapreduce(默认)"
   ]
  },
  {
   "cell_type": "markdown",
   "metadata": {},
   "source": [
    "\n",
    "### 语法：set hive.execution.engine=spark"
   ]
  },
  {
   "cell_type": "raw",
   "metadata": {},
   "source": [
    "设置计算引擎为spark"
   ]
  },
  {
   "cell_type": "code",
   "execution_count": null,
   "metadata": {
    "collapsed": true
   },
   "outputs": [],
   "source": []
  }
 ],
 "metadata": {
  "kernelspec": {
   "display_name": "Python 3",
   "language": "python",
   "name": "python3"
  },
  "language_info": {
   "codemirror_mode": {
    "name": "ipython",
    "version": 3
   },
   "file_extension": ".py",
   "mimetype": "text/x-python",
   "name": "python",
   "nbconvert_exporter": "python",
   "pygments_lexer": "ipython3",
   "version": "3.6.0"
  }
 },
 "nbformat": 4,
 "nbformat_minor": 2
}
